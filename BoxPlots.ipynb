{
 "cells": [
  {
   "cell_type": "code",
   "execution_count": 1,
   "id": "0f3d03a9",
   "metadata": {},
   "outputs": [],
   "source": [
    "import numpy as np\n",
    "import pandas as pd\n",
    "\n",
    "from pydataset import data\n",
    "\n",
    "import plotly.offline as pyo\n",
    "import plotly.graph_objs as go\n",
    "import plotly.express as px"
   ]
  },
  {
   "cell_type": "code",
   "execution_count": 8,
   "id": "7c511fd0",
   "metadata": {},
   "outputs": [
    {
     "data": {
      "text/plain": [
       "array([33, 22, 43, 36, 17, 43, 46, 49, 26,  4, 22, 36, 44, 18, 44, 23,  6,\n",
       "       16, 39, 42])"
      ]
     },
     "execution_count": 8,
     "metadata": {},
     "output_type": "execute_result"
    }
   ],
   "source": [
    "vals = np.random.randint(50,size=20)\n",
    "vals"
   ]
  },
  {
   "cell_type": "code",
   "execution_count": 32,
   "id": "cafdb917",
   "metadata": {},
   "outputs": [
    {
     "data": {
      "application/vnd.plotly.v1+json": {
       "config": {
        "linkText": "Export to plot.ly",
        "plotlyServerURL": "https://plot.ly",
        "showLink": false
       },
       "data": [
        {
         "boxpoints": "all",
         "jitter": 0.3,
         "pointpos": 0,
         "type": "box",
         "y": [
          33,
          22,
          43,
          36,
          17,
          43,
          46,
          49,
          26,
          4,
          22,
          36,
          44,
          18,
          44,
          23,
          6,
          16,
          39,
          42
         ]
        }
       ],
       "layout": {
        "template": {
         "data": {
          "bar": [
           {
            "error_x": {
             "color": "#2a3f5f"
            },
            "error_y": {
             "color": "#2a3f5f"
            },
            "marker": {
             "line": {
              "color": "#E5ECF6",
              "width": 0.5
             },
             "pattern": {
              "fillmode": "overlay",
              "size": 10,
              "solidity": 0.2
             }
            },
            "type": "bar"
           }
          ],
          "barpolar": [
           {
            "marker": {
             "line": {
              "color": "#E5ECF6",
              "width": 0.5
             },
             "pattern": {
              "fillmode": "overlay",
              "size": 10,
              "solidity": 0.2
             }
            },
            "type": "barpolar"
           }
          ],
          "carpet": [
           {
            "aaxis": {
             "endlinecolor": "#2a3f5f",
             "gridcolor": "white",
             "linecolor": "white",
             "minorgridcolor": "white",
             "startlinecolor": "#2a3f5f"
            },
            "baxis": {
             "endlinecolor": "#2a3f5f",
             "gridcolor": "white",
             "linecolor": "white",
             "minorgridcolor": "white",
             "startlinecolor": "#2a3f5f"
            },
            "type": "carpet"
           }
          ],
          "choropleth": [
           {
            "colorbar": {
             "outlinewidth": 0,
             "ticks": ""
            },
            "type": "choropleth"
           }
          ],
          "contour": [
           {
            "colorbar": {
             "outlinewidth": 0,
             "ticks": ""
            },
            "colorscale": [
             [
              0,
              "#0d0887"
             ],
             [
              0.1111111111111111,
              "#46039f"
             ],
             [
              0.2222222222222222,
              "#7201a8"
             ],
             [
              0.3333333333333333,
              "#9c179e"
             ],
             [
              0.4444444444444444,
              "#bd3786"
             ],
             [
              0.5555555555555556,
              "#d8576b"
             ],
             [
              0.6666666666666666,
              "#ed7953"
             ],
             [
              0.7777777777777778,
              "#fb9f3a"
             ],
             [
              0.8888888888888888,
              "#fdca26"
             ],
             [
              1,
              "#f0f921"
             ]
            ],
            "type": "contour"
           }
          ],
          "contourcarpet": [
           {
            "colorbar": {
             "outlinewidth": 0,
             "ticks": ""
            },
            "type": "contourcarpet"
           }
          ],
          "heatmap": [
           {
            "colorbar": {
             "outlinewidth": 0,
             "ticks": ""
            },
            "colorscale": [
             [
              0,
              "#0d0887"
             ],
             [
              0.1111111111111111,
              "#46039f"
             ],
             [
              0.2222222222222222,
              "#7201a8"
             ],
             [
              0.3333333333333333,
              "#9c179e"
             ],
             [
              0.4444444444444444,
              "#bd3786"
             ],
             [
              0.5555555555555556,
              "#d8576b"
             ],
             [
              0.6666666666666666,
              "#ed7953"
             ],
             [
              0.7777777777777778,
              "#fb9f3a"
             ],
             [
              0.8888888888888888,
              "#fdca26"
             ],
             [
              1,
              "#f0f921"
             ]
            ],
            "type": "heatmap"
           }
          ],
          "heatmapgl": [
           {
            "colorbar": {
             "outlinewidth": 0,
             "ticks": ""
            },
            "colorscale": [
             [
              0,
              "#0d0887"
             ],
             [
              0.1111111111111111,
              "#46039f"
             ],
             [
              0.2222222222222222,
              "#7201a8"
             ],
             [
              0.3333333333333333,
              "#9c179e"
             ],
             [
              0.4444444444444444,
              "#bd3786"
             ],
             [
              0.5555555555555556,
              "#d8576b"
             ],
             [
              0.6666666666666666,
              "#ed7953"
             ],
             [
              0.7777777777777778,
              "#fb9f3a"
             ],
             [
              0.8888888888888888,
              "#fdca26"
             ],
             [
              1,
              "#f0f921"
             ]
            ],
            "type": "heatmapgl"
           }
          ],
          "histogram": [
           {
            "marker": {
             "pattern": {
              "fillmode": "overlay",
              "size": 10,
              "solidity": 0.2
             }
            },
            "type": "histogram"
           }
          ],
          "histogram2d": [
           {
            "colorbar": {
             "outlinewidth": 0,
             "ticks": ""
            },
            "colorscale": [
             [
              0,
              "#0d0887"
             ],
             [
              0.1111111111111111,
              "#46039f"
             ],
             [
              0.2222222222222222,
              "#7201a8"
             ],
             [
              0.3333333333333333,
              "#9c179e"
             ],
             [
              0.4444444444444444,
              "#bd3786"
             ],
             [
              0.5555555555555556,
              "#d8576b"
             ],
             [
              0.6666666666666666,
              "#ed7953"
             ],
             [
              0.7777777777777778,
              "#fb9f3a"
             ],
             [
              0.8888888888888888,
              "#fdca26"
             ],
             [
              1,
              "#f0f921"
             ]
            ],
            "type": "histogram2d"
           }
          ],
          "histogram2dcontour": [
           {
            "colorbar": {
             "outlinewidth": 0,
             "ticks": ""
            },
            "colorscale": [
             [
              0,
              "#0d0887"
             ],
             [
              0.1111111111111111,
              "#46039f"
             ],
             [
              0.2222222222222222,
              "#7201a8"
             ],
             [
              0.3333333333333333,
              "#9c179e"
             ],
             [
              0.4444444444444444,
              "#bd3786"
             ],
             [
              0.5555555555555556,
              "#d8576b"
             ],
             [
              0.6666666666666666,
              "#ed7953"
             ],
             [
              0.7777777777777778,
              "#fb9f3a"
             ],
             [
              0.8888888888888888,
              "#fdca26"
             ],
             [
              1,
              "#f0f921"
             ]
            ],
            "type": "histogram2dcontour"
           }
          ],
          "mesh3d": [
           {
            "colorbar": {
             "outlinewidth": 0,
             "ticks": ""
            },
            "type": "mesh3d"
           }
          ],
          "parcoords": [
           {
            "line": {
             "colorbar": {
              "outlinewidth": 0,
              "ticks": ""
             }
            },
            "type": "parcoords"
           }
          ],
          "pie": [
           {
            "automargin": true,
            "type": "pie"
           }
          ],
          "scatter": [
           {
            "fillpattern": {
             "fillmode": "overlay",
             "size": 10,
             "solidity": 0.2
            },
            "type": "scatter"
           }
          ],
          "scatter3d": [
           {
            "line": {
             "colorbar": {
              "outlinewidth": 0,
              "ticks": ""
             }
            },
            "marker": {
             "colorbar": {
              "outlinewidth": 0,
              "ticks": ""
             }
            },
            "type": "scatter3d"
           }
          ],
          "scattercarpet": [
           {
            "marker": {
             "colorbar": {
              "outlinewidth": 0,
              "ticks": ""
             }
            },
            "type": "scattercarpet"
           }
          ],
          "scattergeo": [
           {
            "marker": {
             "colorbar": {
              "outlinewidth": 0,
              "ticks": ""
             }
            },
            "type": "scattergeo"
           }
          ],
          "scattergl": [
           {
            "marker": {
             "colorbar": {
              "outlinewidth": 0,
              "ticks": ""
             }
            },
            "type": "scattergl"
           }
          ],
          "scattermapbox": [
           {
            "marker": {
             "colorbar": {
              "outlinewidth": 0,
              "ticks": ""
             }
            },
            "type": "scattermapbox"
           }
          ],
          "scatterpolar": [
           {
            "marker": {
             "colorbar": {
              "outlinewidth": 0,
              "ticks": ""
             }
            },
            "type": "scatterpolar"
           }
          ],
          "scatterpolargl": [
           {
            "marker": {
             "colorbar": {
              "outlinewidth": 0,
              "ticks": ""
             }
            },
            "type": "scatterpolargl"
           }
          ],
          "scatterternary": [
           {
            "marker": {
             "colorbar": {
              "outlinewidth": 0,
              "ticks": ""
             }
            },
            "type": "scatterternary"
           }
          ],
          "surface": [
           {
            "colorbar": {
             "outlinewidth": 0,
             "ticks": ""
            },
            "colorscale": [
             [
              0,
              "#0d0887"
             ],
             [
              0.1111111111111111,
              "#46039f"
             ],
             [
              0.2222222222222222,
              "#7201a8"
             ],
             [
              0.3333333333333333,
              "#9c179e"
             ],
             [
              0.4444444444444444,
              "#bd3786"
             ],
             [
              0.5555555555555556,
              "#d8576b"
             ],
             [
              0.6666666666666666,
              "#ed7953"
             ],
             [
              0.7777777777777778,
              "#fb9f3a"
             ],
             [
              0.8888888888888888,
              "#fdca26"
             ],
             [
              1,
              "#f0f921"
             ]
            ],
            "type": "surface"
           }
          ],
          "table": [
           {
            "cells": {
             "fill": {
              "color": "#EBF0F8"
             },
             "line": {
              "color": "white"
             }
            },
            "header": {
             "fill": {
              "color": "#C8D4E3"
             },
             "line": {
              "color": "white"
             }
            },
            "type": "table"
           }
          ]
         },
         "layout": {
          "annotationdefaults": {
           "arrowcolor": "#2a3f5f",
           "arrowhead": 0,
           "arrowwidth": 1
          },
          "autotypenumbers": "strict",
          "coloraxis": {
           "colorbar": {
            "outlinewidth": 0,
            "ticks": ""
           }
          },
          "colorscale": {
           "diverging": [
            [
             0,
             "#8e0152"
            ],
            [
             0.1,
             "#c51b7d"
            ],
            [
             0.2,
             "#de77ae"
            ],
            [
             0.3,
             "#f1b6da"
            ],
            [
             0.4,
             "#fde0ef"
            ],
            [
             0.5,
             "#f7f7f7"
            ],
            [
             0.6,
             "#e6f5d0"
            ],
            [
             0.7,
             "#b8e186"
            ],
            [
             0.8,
             "#7fbc41"
            ],
            [
             0.9,
             "#4d9221"
            ],
            [
             1,
             "#276419"
            ]
           ],
           "sequential": [
            [
             0,
             "#0d0887"
            ],
            [
             0.1111111111111111,
             "#46039f"
            ],
            [
             0.2222222222222222,
             "#7201a8"
            ],
            [
             0.3333333333333333,
             "#9c179e"
            ],
            [
             0.4444444444444444,
             "#bd3786"
            ],
            [
             0.5555555555555556,
             "#d8576b"
            ],
            [
             0.6666666666666666,
             "#ed7953"
            ],
            [
             0.7777777777777778,
             "#fb9f3a"
            ],
            [
             0.8888888888888888,
             "#fdca26"
            ],
            [
             1,
             "#f0f921"
            ]
           ],
           "sequentialminus": [
            [
             0,
             "#0d0887"
            ],
            [
             0.1111111111111111,
             "#46039f"
            ],
            [
             0.2222222222222222,
             "#7201a8"
            ],
            [
             0.3333333333333333,
             "#9c179e"
            ],
            [
             0.4444444444444444,
             "#bd3786"
            ],
            [
             0.5555555555555556,
             "#d8576b"
            ],
            [
             0.6666666666666666,
             "#ed7953"
            ],
            [
             0.7777777777777778,
             "#fb9f3a"
            ],
            [
             0.8888888888888888,
             "#fdca26"
            ],
            [
             1,
             "#f0f921"
            ]
           ]
          },
          "colorway": [
           "#636efa",
           "#EF553B",
           "#00cc96",
           "#ab63fa",
           "#FFA15A",
           "#19d3f3",
           "#FF6692",
           "#B6E880",
           "#FF97FF",
           "#FECB52"
          ],
          "font": {
           "color": "#2a3f5f"
          },
          "geo": {
           "bgcolor": "white",
           "lakecolor": "white",
           "landcolor": "#E5ECF6",
           "showlakes": true,
           "showland": true,
           "subunitcolor": "white"
          },
          "hoverlabel": {
           "align": "left"
          },
          "hovermode": "closest",
          "mapbox": {
           "style": "light"
          },
          "paper_bgcolor": "white",
          "plot_bgcolor": "#E5ECF6",
          "polar": {
           "angularaxis": {
            "gridcolor": "white",
            "linecolor": "white",
            "ticks": ""
           },
           "bgcolor": "#E5ECF6",
           "radialaxis": {
            "gridcolor": "white",
            "linecolor": "white",
            "ticks": ""
           }
          },
          "scene": {
           "xaxis": {
            "backgroundcolor": "#E5ECF6",
            "gridcolor": "white",
            "gridwidth": 2,
            "linecolor": "white",
            "showbackground": true,
            "ticks": "",
            "zerolinecolor": "white"
           },
           "yaxis": {
            "backgroundcolor": "#E5ECF6",
            "gridcolor": "white",
            "gridwidth": 2,
            "linecolor": "white",
            "showbackground": true,
            "ticks": "",
            "zerolinecolor": "white"
           },
           "zaxis": {
            "backgroundcolor": "#E5ECF6",
            "gridcolor": "white",
            "gridwidth": 2,
            "linecolor": "white",
            "showbackground": true,
            "ticks": "",
            "zerolinecolor": "white"
           }
          },
          "shapedefaults": {
           "line": {
            "color": "#2a3f5f"
           }
          },
          "ternary": {
           "aaxis": {
            "gridcolor": "white",
            "linecolor": "white",
            "ticks": ""
           },
           "baxis": {
            "gridcolor": "white",
            "linecolor": "white",
            "ticks": ""
           },
           "bgcolor": "#E5ECF6",
           "caxis": {
            "gridcolor": "white",
            "linecolor": "white",
            "ticks": ""
           }
          },
          "title": {
           "x": 0.05
          },
          "xaxis": {
           "automargin": true,
           "gridcolor": "white",
           "linecolor": "white",
           "ticks": "",
           "title": {
            "standoff": 15
           },
           "zerolinecolor": "white",
           "zerolinewidth": 2
          },
          "yaxis": {
           "automargin": true,
           "gridcolor": "white",
           "linecolor": "white",
           "ticks": "",
           "title": {
            "standoff": 15
           },
           "zerolinecolor": "white",
           "zerolinewidth": 2
          }
         }
        }
       }
      },
      "text/html": [
       "<div>                            <div id=\"cf2c0499-3d5a-43fa-b868-1b269c2243ae\" class=\"plotly-graph-div\" style=\"height:525px; width:100%;\"></div>            <script type=\"text/javascript\">                require([\"plotly\"], function(Plotly) {                    window.PLOTLYENV=window.PLOTLYENV || {};                                    if (document.getElementById(\"cf2c0499-3d5a-43fa-b868-1b269c2243ae\")) {                    Plotly.newPlot(                        \"cf2c0499-3d5a-43fa-b868-1b269c2243ae\",                        [{\"boxpoints\":\"all\",\"jitter\":0.3,\"pointpos\":0,\"y\":[33,22,43,36,17,43,46,49,26,4,22,36,44,18,44,23,6,16,39,42],\"type\":\"box\"}],                        {\"template\":{\"data\":{\"barpolar\":[{\"marker\":{\"line\":{\"color\":\"#E5ECF6\",\"width\":0.5},\"pattern\":{\"fillmode\":\"overlay\",\"size\":10,\"solidity\":0.2}},\"type\":\"barpolar\"}],\"bar\":[{\"error_x\":{\"color\":\"#2a3f5f\"},\"error_y\":{\"color\":\"#2a3f5f\"},\"marker\":{\"line\":{\"color\":\"#E5ECF6\",\"width\":0.5},\"pattern\":{\"fillmode\":\"overlay\",\"size\":10,\"solidity\":0.2}},\"type\":\"bar\"}],\"carpet\":[{\"aaxis\":{\"endlinecolor\":\"#2a3f5f\",\"gridcolor\":\"white\",\"linecolor\":\"white\",\"minorgridcolor\":\"white\",\"startlinecolor\":\"#2a3f5f\"},\"baxis\":{\"endlinecolor\":\"#2a3f5f\",\"gridcolor\":\"white\",\"linecolor\":\"white\",\"minorgridcolor\":\"white\",\"startlinecolor\":\"#2a3f5f\"},\"type\":\"carpet\"}],\"choropleth\":[{\"colorbar\":{\"outlinewidth\":0,\"ticks\":\"\"},\"type\":\"choropleth\"}],\"contourcarpet\":[{\"colorbar\":{\"outlinewidth\":0,\"ticks\":\"\"},\"type\":\"contourcarpet\"}],\"contour\":[{\"colorbar\":{\"outlinewidth\":0,\"ticks\":\"\"},\"colorscale\":[[0.0,\"#0d0887\"],[0.1111111111111111,\"#46039f\"],[0.2222222222222222,\"#7201a8\"],[0.3333333333333333,\"#9c179e\"],[0.4444444444444444,\"#bd3786\"],[0.5555555555555556,\"#d8576b\"],[0.6666666666666666,\"#ed7953\"],[0.7777777777777778,\"#fb9f3a\"],[0.8888888888888888,\"#fdca26\"],[1.0,\"#f0f921\"]],\"type\":\"contour\"}],\"heatmapgl\":[{\"colorbar\":{\"outlinewidth\":0,\"ticks\":\"\"},\"colorscale\":[[0.0,\"#0d0887\"],[0.1111111111111111,\"#46039f\"],[0.2222222222222222,\"#7201a8\"],[0.3333333333333333,\"#9c179e\"],[0.4444444444444444,\"#bd3786\"],[0.5555555555555556,\"#d8576b\"],[0.6666666666666666,\"#ed7953\"],[0.7777777777777778,\"#fb9f3a\"],[0.8888888888888888,\"#fdca26\"],[1.0,\"#f0f921\"]],\"type\":\"heatmapgl\"}],\"heatmap\":[{\"colorbar\":{\"outlinewidth\":0,\"ticks\":\"\"},\"colorscale\":[[0.0,\"#0d0887\"],[0.1111111111111111,\"#46039f\"],[0.2222222222222222,\"#7201a8\"],[0.3333333333333333,\"#9c179e\"],[0.4444444444444444,\"#bd3786\"],[0.5555555555555556,\"#d8576b\"],[0.6666666666666666,\"#ed7953\"],[0.7777777777777778,\"#fb9f3a\"],[0.8888888888888888,\"#fdca26\"],[1.0,\"#f0f921\"]],\"type\":\"heatmap\"}],\"histogram2dcontour\":[{\"colorbar\":{\"outlinewidth\":0,\"ticks\":\"\"},\"colorscale\":[[0.0,\"#0d0887\"],[0.1111111111111111,\"#46039f\"],[0.2222222222222222,\"#7201a8\"],[0.3333333333333333,\"#9c179e\"],[0.4444444444444444,\"#bd3786\"],[0.5555555555555556,\"#d8576b\"],[0.6666666666666666,\"#ed7953\"],[0.7777777777777778,\"#fb9f3a\"],[0.8888888888888888,\"#fdca26\"],[1.0,\"#f0f921\"]],\"type\":\"histogram2dcontour\"}],\"histogram2d\":[{\"colorbar\":{\"outlinewidth\":0,\"ticks\":\"\"},\"colorscale\":[[0.0,\"#0d0887\"],[0.1111111111111111,\"#46039f\"],[0.2222222222222222,\"#7201a8\"],[0.3333333333333333,\"#9c179e\"],[0.4444444444444444,\"#bd3786\"],[0.5555555555555556,\"#d8576b\"],[0.6666666666666666,\"#ed7953\"],[0.7777777777777778,\"#fb9f3a\"],[0.8888888888888888,\"#fdca26\"],[1.0,\"#f0f921\"]],\"type\":\"histogram2d\"}],\"histogram\":[{\"marker\":{\"pattern\":{\"fillmode\":\"overlay\",\"size\":10,\"solidity\":0.2}},\"type\":\"histogram\"}],\"mesh3d\":[{\"colorbar\":{\"outlinewidth\":0,\"ticks\":\"\"},\"type\":\"mesh3d\"}],\"parcoords\":[{\"line\":{\"colorbar\":{\"outlinewidth\":0,\"ticks\":\"\"}},\"type\":\"parcoords\"}],\"pie\":[{\"automargin\":true,\"type\":\"pie\"}],\"scatter3d\":[{\"line\":{\"colorbar\":{\"outlinewidth\":0,\"ticks\":\"\"}},\"marker\":{\"colorbar\":{\"outlinewidth\":0,\"ticks\":\"\"}},\"type\":\"scatter3d\"}],\"scattercarpet\":[{\"marker\":{\"colorbar\":{\"outlinewidth\":0,\"ticks\":\"\"}},\"type\":\"scattercarpet\"}],\"scattergeo\":[{\"marker\":{\"colorbar\":{\"outlinewidth\":0,\"ticks\":\"\"}},\"type\":\"scattergeo\"}],\"scattergl\":[{\"marker\":{\"colorbar\":{\"outlinewidth\":0,\"ticks\":\"\"}},\"type\":\"scattergl\"}],\"scattermapbox\":[{\"marker\":{\"colorbar\":{\"outlinewidth\":0,\"ticks\":\"\"}},\"type\":\"scattermapbox\"}],\"scatterpolargl\":[{\"marker\":{\"colorbar\":{\"outlinewidth\":0,\"ticks\":\"\"}},\"type\":\"scatterpolargl\"}],\"scatterpolar\":[{\"marker\":{\"colorbar\":{\"outlinewidth\":0,\"ticks\":\"\"}},\"type\":\"scatterpolar\"}],\"scatter\":[{\"fillpattern\":{\"fillmode\":\"overlay\",\"size\":10,\"solidity\":0.2},\"type\":\"scatter\"}],\"scatterternary\":[{\"marker\":{\"colorbar\":{\"outlinewidth\":0,\"ticks\":\"\"}},\"type\":\"scatterternary\"}],\"surface\":[{\"colorbar\":{\"outlinewidth\":0,\"ticks\":\"\"},\"colorscale\":[[0.0,\"#0d0887\"],[0.1111111111111111,\"#46039f\"],[0.2222222222222222,\"#7201a8\"],[0.3333333333333333,\"#9c179e\"],[0.4444444444444444,\"#bd3786\"],[0.5555555555555556,\"#d8576b\"],[0.6666666666666666,\"#ed7953\"],[0.7777777777777778,\"#fb9f3a\"],[0.8888888888888888,\"#fdca26\"],[1.0,\"#f0f921\"]],\"type\":\"surface\"}],\"table\":[{\"cells\":{\"fill\":{\"color\":\"#EBF0F8\"},\"line\":{\"color\":\"white\"}},\"header\":{\"fill\":{\"color\":\"#C8D4E3\"},\"line\":{\"color\":\"white\"}},\"type\":\"table\"}]},\"layout\":{\"annotationdefaults\":{\"arrowcolor\":\"#2a3f5f\",\"arrowhead\":0,\"arrowwidth\":1},\"autotypenumbers\":\"strict\",\"coloraxis\":{\"colorbar\":{\"outlinewidth\":0,\"ticks\":\"\"}},\"colorscale\":{\"diverging\":[[0,\"#8e0152\"],[0.1,\"#c51b7d\"],[0.2,\"#de77ae\"],[0.3,\"#f1b6da\"],[0.4,\"#fde0ef\"],[0.5,\"#f7f7f7\"],[0.6,\"#e6f5d0\"],[0.7,\"#b8e186\"],[0.8,\"#7fbc41\"],[0.9,\"#4d9221\"],[1,\"#276419\"]],\"sequential\":[[0.0,\"#0d0887\"],[0.1111111111111111,\"#46039f\"],[0.2222222222222222,\"#7201a8\"],[0.3333333333333333,\"#9c179e\"],[0.4444444444444444,\"#bd3786\"],[0.5555555555555556,\"#d8576b\"],[0.6666666666666666,\"#ed7953\"],[0.7777777777777778,\"#fb9f3a\"],[0.8888888888888888,\"#fdca26\"],[1.0,\"#f0f921\"]],\"sequentialminus\":[[0.0,\"#0d0887\"],[0.1111111111111111,\"#46039f\"],[0.2222222222222222,\"#7201a8\"],[0.3333333333333333,\"#9c179e\"],[0.4444444444444444,\"#bd3786\"],[0.5555555555555556,\"#d8576b\"],[0.6666666666666666,\"#ed7953\"],[0.7777777777777778,\"#fb9f3a\"],[0.8888888888888888,\"#fdca26\"],[1.0,\"#f0f921\"]]},\"colorway\":[\"#636efa\",\"#EF553B\",\"#00cc96\",\"#ab63fa\",\"#FFA15A\",\"#19d3f3\",\"#FF6692\",\"#B6E880\",\"#FF97FF\",\"#FECB52\"],\"font\":{\"color\":\"#2a3f5f\"},\"geo\":{\"bgcolor\":\"white\",\"lakecolor\":\"white\",\"landcolor\":\"#E5ECF6\",\"showlakes\":true,\"showland\":true,\"subunitcolor\":\"white\"},\"hoverlabel\":{\"align\":\"left\"},\"hovermode\":\"closest\",\"mapbox\":{\"style\":\"light\"},\"paper_bgcolor\":\"white\",\"plot_bgcolor\":\"#E5ECF6\",\"polar\":{\"angularaxis\":{\"gridcolor\":\"white\",\"linecolor\":\"white\",\"ticks\":\"\"},\"bgcolor\":\"#E5ECF6\",\"radialaxis\":{\"gridcolor\":\"white\",\"linecolor\":\"white\",\"ticks\":\"\"}},\"scene\":{\"xaxis\":{\"backgroundcolor\":\"#E5ECF6\",\"gridcolor\":\"white\",\"gridwidth\":2,\"linecolor\":\"white\",\"showbackground\":true,\"ticks\":\"\",\"zerolinecolor\":\"white\"},\"yaxis\":{\"backgroundcolor\":\"#E5ECF6\",\"gridcolor\":\"white\",\"gridwidth\":2,\"linecolor\":\"white\",\"showbackground\":true,\"ticks\":\"\",\"zerolinecolor\":\"white\"},\"zaxis\":{\"backgroundcolor\":\"#E5ECF6\",\"gridcolor\":\"white\",\"gridwidth\":2,\"linecolor\":\"white\",\"showbackground\":true,\"ticks\":\"\",\"zerolinecolor\":\"white\"}},\"shapedefaults\":{\"line\":{\"color\":\"#2a3f5f\"}},\"ternary\":{\"aaxis\":{\"gridcolor\":\"white\",\"linecolor\":\"white\",\"ticks\":\"\"},\"baxis\":{\"gridcolor\":\"white\",\"linecolor\":\"white\",\"ticks\":\"\"},\"bgcolor\":\"#E5ECF6\",\"caxis\":{\"gridcolor\":\"white\",\"linecolor\":\"white\",\"ticks\":\"\"}},\"title\":{\"x\":0.05},\"xaxis\":{\"automargin\":true,\"gridcolor\":\"white\",\"linecolor\":\"white\",\"ticks\":\"\",\"title\":{\"standoff\":15},\"zerolinecolor\":\"white\",\"zerolinewidth\":2},\"yaxis\":{\"automargin\":true,\"gridcolor\":\"white\",\"linecolor\":\"white\",\"ticks\":\"\",\"title\":{\"standoff\":15},\"zerolinecolor\":\"white\",\"zerolinewidth\":2}}}},                        {\"responsive\": true}                    ).then(function(){\n",
       "                            \n",
       "var gd = document.getElementById('cf2c0499-3d5a-43fa-b868-1b269c2243ae');\n",
       "var x = new MutationObserver(function (mutations, observer) {{\n",
       "        var display = window.getComputedStyle(gd).display;\n",
       "        if (!display || display === 'none') {{\n",
       "            console.log([gd, 'removed!']);\n",
       "            Plotly.purge(gd);\n",
       "            observer.disconnect();\n",
       "        }}\n",
       "}});\n",
       "\n",
       "// Listen for the removal of the full notebook cells\n",
       "var notebookContainer = gd.closest('#notebook-container');\n",
       "if (notebookContainer) {{\n",
       "    x.observe(notebookContainer, {childList: true});\n",
       "}}\n",
       "\n",
       "// Listen for the clearing of the current output cell\n",
       "var outputEl = gd.closest('.output');\n",
       "if (outputEl) {{\n",
       "    x.observe(outputEl, {childList: true});\n",
       "}}\n",
       "\n",
       "                        })                };                });            </script>        </div>"
      ]
     },
     "metadata": {},
     "output_type": "display_data"
    }
   ],
   "source": [
    "data = [go.Box(y=vals, boxpoints='all', jitter=.3,pointpos=0)]\n",
    "\n",
    "pyo.iplot(data)"
   ]
  },
  {
   "cell_type": "markdown",
   "id": "9aa826b5",
   "metadata": {},
   "source": [
    "- boxpoints shows all the datapoints on the plot\n",
    "  - 'all', 'outliers'\n",
    "- jitter represents how wide the datapoints will be\n",
    "- pointpos lets you choose where the points are in relation to the boxplot. 0 >> right on the boxplot"
   ]
  },
  {
   "cell_type": "code",
   "execution_count": 34,
   "id": "47243fb3",
   "metadata": {},
   "outputs": [
    {
     "data": {
      "application/vnd.plotly.v1+json": {
       "config": {
        "linkText": "Export to plot.ly",
        "plotlyServerURL": "https://plot.ly",
        "showLink": false
       },
       "data": [
        {
         "boxpoints": "all",
         "name": "Snodgrass",
         "pointpos": 0,
         "type": "box",
         "y": [
          0.209,
          0.205,
          0.196,
          0.21,
          0.202,
          0.207,
          0.224,
          0.223,
          0.22,
          0.201
         ]
        },
        {
         "boxpoints": "all",
         "name": "Twain",
         "pointpos": 0,
         "type": "box",
         "y": [
          0.225,
          0.262,
          0.217,
          0.24,
          0.23,
          0.229,
          0.235,
          0.217
         ]
        }
       ],
       "layout": {
        "template": {
         "data": {
          "bar": [
           {
            "error_x": {
             "color": "#2a3f5f"
            },
            "error_y": {
             "color": "#2a3f5f"
            },
            "marker": {
             "line": {
              "color": "#E5ECF6",
              "width": 0.5
             },
             "pattern": {
              "fillmode": "overlay",
              "size": 10,
              "solidity": 0.2
             }
            },
            "type": "bar"
           }
          ],
          "barpolar": [
           {
            "marker": {
             "line": {
              "color": "#E5ECF6",
              "width": 0.5
             },
             "pattern": {
              "fillmode": "overlay",
              "size": 10,
              "solidity": 0.2
             }
            },
            "type": "barpolar"
           }
          ],
          "carpet": [
           {
            "aaxis": {
             "endlinecolor": "#2a3f5f",
             "gridcolor": "white",
             "linecolor": "white",
             "minorgridcolor": "white",
             "startlinecolor": "#2a3f5f"
            },
            "baxis": {
             "endlinecolor": "#2a3f5f",
             "gridcolor": "white",
             "linecolor": "white",
             "minorgridcolor": "white",
             "startlinecolor": "#2a3f5f"
            },
            "type": "carpet"
           }
          ],
          "choropleth": [
           {
            "colorbar": {
             "outlinewidth": 0,
             "ticks": ""
            },
            "type": "choropleth"
           }
          ],
          "contour": [
           {
            "colorbar": {
             "outlinewidth": 0,
             "ticks": ""
            },
            "colorscale": [
             [
              0,
              "#0d0887"
             ],
             [
              0.1111111111111111,
              "#46039f"
             ],
             [
              0.2222222222222222,
              "#7201a8"
             ],
             [
              0.3333333333333333,
              "#9c179e"
             ],
             [
              0.4444444444444444,
              "#bd3786"
             ],
             [
              0.5555555555555556,
              "#d8576b"
             ],
             [
              0.6666666666666666,
              "#ed7953"
             ],
             [
              0.7777777777777778,
              "#fb9f3a"
             ],
             [
              0.8888888888888888,
              "#fdca26"
             ],
             [
              1,
              "#f0f921"
             ]
            ],
            "type": "contour"
           }
          ],
          "contourcarpet": [
           {
            "colorbar": {
             "outlinewidth": 0,
             "ticks": ""
            },
            "type": "contourcarpet"
           }
          ],
          "heatmap": [
           {
            "colorbar": {
             "outlinewidth": 0,
             "ticks": ""
            },
            "colorscale": [
             [
              0,
              "#0d0887"
             ],
             [
              0.1111111111111111,
              "#46039f"
             ],
             [
              0.2222222222222222,
              "#7201a8"
             ],
             [
              0.3333333333333333,
              "#9c179e"
             ],
             [
              0.4444444444444444,
              "#bd3786"
             ],
             [
              0.5555555555555556,
              "#d8576b"
             ],
             [
              0.6666666666666666,
              "#ed7953"
             ],
             [
              0.7777777777777778,
              "#fb9f3a"
             ],
             [
              0.8888888888888888,
              "#fdca26"
             ],
             [
              1,
              "#f0f921"
             ]
            ],
            "type": "heatmap"
           }
          ],
          "heatmapgl": [
           {
            "colorbar": {
             "outlinewidth": 0,
             "ticks": ""
            },
            "colorscale": [
             [
              0,
              "#0d0887"
             ],
             [
              0.1111111111111111,
              "#46039f"
             ],
             [
              0.2222222222222222,
              "#7201a8"
             ],
             [
              0.3333333333333333,
              "#9c179e"
             ],
             [
              0.4444444444444444,
              "#bd3786"
             ],
             [
              0.5555555555555556,
              "#d8576b"
             ],
             [
              0.6666666666666666,
              "#ed7953"
             ],
             [
              0.7777777777777778,
              "#fb9f3a"
             ],
             [
              0.8888888888888888,
              "#fdca26"
             ],
             [
              1,
              "#f0f921"
             ]
            ],
            "type": "heatmapgl"
           }
          ],
          "histogram": [
           {
            "marker": {
             "pattern": {
              "fillmode": "overlay",
              "size": 10,
              "solidity": 0.2
             }
            },
            "type": "histogram"
           }
          ],
          "histogram2d": [
           {
            "colorbar": {
             "outlinewidth": 0,
             "ticks": ""
            },
            "colorscale": [
             [
              0,
              "#0d0887"
             ],
             [
              0.1111111111111111,
              "#46039f"
             ],
             [
              0.2222222222222222,
              "#7201a8"
             ],
             [
              0.3333333333333333,
              "#9c179e"
             ],
             [
              0.4444444444444444,
              "#bd3786"
             ],
             [
              0.5555555555555556,
              "#d8576b"
             ],
             [
              0.6666666666666666,
              "#ed7953"
             ],
             [
              0.7777777777777778,
              "#fb9f3a"
             ],
             [
              0.8888888888888888,
              "#fdca26"
             ],
             [
              1,
              "#f0f921"
             ]
            ],
            "type": "histogram2d"
           }
          ],
          "histogram2dcontour": [
           {
            "colorbar": {
             "outlinewidth": 0,
             "ticks": ""
            },
            "colorscale": [
             [
              0,
              "#0d0887"
             ],
             [
              0.1111111111111111,
              "#46039f"
             ],
             [
              0.2222222222222222,
              "#7201a8"
             ],
             [
              0.3333333333333333,
              "#9c179e"
             ],
             [
              0.4444444444444444,
              "#bd3786"
             ],
             [
              0.5555555555555556,
              "#d8576b"
             ],
             [
              0.6666666666666666,
              "#ed7953"
             ],
             [
              0.7777777777777778,
              "#fb9f3a"
             ],
             [
              0.8888888888888888,
              "#fdca26"
             ],
             [
              1,
              "#f0f921"
             ]
            ],
            "type": "histogram2dcontour"
           }
          ],
          "mesh3d": [
           {
            "colorbar": {
             "outlinewidth": 0,
             "ticks": ""
            },
            "type": "mesh3d"
           }
          ],
          "parcoords": [
           {
            "line": {
             "colorbar": {
              "outlinewidth": 0,
              "ticks": ""
             }
            },
            "type": "parcoords"
           }
          ],
          "pie": [
           {
            "automargin": true,
            "type": "pie"
           }
          ],
          "scatter": [
           {
            "fillpattern": {
             "fillmode": "overlay",
             "size": 10,
             "solidity": 0.2
            },
            "type": "scatter"
           }
          ],
          "scatter3d": [
           {
            "line": {
             "colorbar": {
              "outlinewidth": 0,
              "ticks": ""
             }
            },
            "marker": {
             "colorbar": {
              "outlinewidth": 0,
              "ticks": ""
             }
            },
            "type": "scatter3d"
           }
          ],
          "scattercarpet": [
           {
            "marker": {
             "colorbar": {
              "outlinewidth": 0,
              "ticks": ""
             }
            },
            "type": "scattercarpet"
           }
          ],
          "scattergeo": [
           {
            "marker": {
             "colorbar": {
              "outlinewidth": 0,
              "ticks": ""
             }
            },
            "type": "scattergeo"
           }
          ],
          "scattergl": [
           {
            "marker": {
             "colorbar": {
              "outlinewidth": 0,
              "ticks": ""
             }
            },
            "type": "scattergl"
           }
          ],
          "scattermapbox": [
           {
            "marker": {
             "colorbar": {
              "outlinewidth": 0,
              "ticks": ""
             }
            },
            "type": "scattermapbox"
           }
          ],
          "scatterpolar": [
           {
            "marker": {
             "colorbar": {
              "outlinewidth": 0,
              "ticks": ""
             }
            },
            "type": "scatterpolar"
           }
          ],
          "scatterpolargl": [
           {
            "marker": {
             "colorbar": {
              "outlinewidth": 0,
              "ticks": ""
             }
            },
            "type": "scatterpolargl"
           }
          ],
          "scatterternary": [
           {
            "marker": {
             "colorbar": {
              "outlinewidth": 0,
              "ticks": ""
             }
            },
            "type": "scatterternary"
           }
          ],
          "surface": [
           {
            "colorbar": {
             "outlinewidth": 0,
             "ticks": ""
            },
            "colorscale": [
             [
              0,
              "#0d0887"
             ],
             [
              0.1111111111111111,
              "#46039f"
             ],
             [
              0.2222222222222222,
              "#7201a8"
             ],
             [
              0.3333333333333333,
              "#9c179e"
             ],
             [
              0.4444444444444444,
              "#bd3786"
             ],
             [
              0.5555555555555556,
              "#d8576b"
             ],
             [
              0.6666666666666666,
              "#ed7953"
             ],
             [
              0.7777777777777778,
              "#fb9f3a"
             ],
             [
              0.8888888888888888,
              "#fdca26"
             ],
             [
              1,
              "#f0f921"
             ]
            ],
            "type": "surface"
           }
          ],
          "table": [
           {
            "cells": {
             "fill": {
              "color": "#EBF0F8"
             },
             "line": {
              "color": "white"
             }
            },
            "header": {
             "fill": {
              "color": "#C8D4E3"
             },
             "line": {
              "color": "white"
             }
            },
            "type": "table"
           }
          ]
         },
         "layout": {
          "annotationdefaults": {
           "arrowcolor": "#2a3f5f",
           "arrowhead": 0,
           "arrowwidth": 1
          },
          "autotypenumbers": "strict",
          "coloraxis": {
           "colorbar": {
            "outlinewidth": 0,
            "ticks": ""
           }
          },
          "colorscale": {
           "diverging": [
            [
             0,
             "#8e0152"
            ],
            [
             0.1,
             "#c51b7d"
            ],
            [
             0.2,
             "#de77ae"
            ],
            [
             0.3,
             "#f1b6da"
            ],
            [
             0.4,
             "#fde0ef"
            ],
            [
             0.5,
             "#f7f7f7"
            ],
            [
             0.6,
             "#e6f5d0"
            ],
            [
             0.7,
             "#b8e186"
            ],
            [
             0.8,
             "#7fbc41"
            ],
            [
             0.9,
             "#4d9221"
            ],
            [
             1,
             "#276419"
            ]
           ],
           "sequential": [
            [
             0,
             "#0d0887"
            ],
            [
             0.1111111111111111,
             "#46039f"
            ],
            [
             0.2222222222222222,
             "#7201a8"
            ],
            [
             0.3333333333333333,
             "#9c179e"
            ],
            [
             0.4444444444444444,
             "#bd3786"
            ],
            [
             0.5555555555555556,
             "#d8576b"
            ],
            [
             0.6666666666666666,
             "#ed7953"
            ],
            [
             0.7777777777777778,
             "#fb9f3a"
            ],
            [
             0.8888888888888888,
             "#fdca26"
            ],
            [
             1,
             "#f0f921"
            ]
           ],
           "sequentialminus": [
            [
             0,
             "#0d0887"
            ],
            [
             0.1111111111111111,
             "#46039f"
            ],
            [
             0.2222222222222222,
             "#7201a8"
            ],
            [
             0.3333333333333333,
             "#9c179e"
            ],
            [
             0.4444444444444444,
             "#bd3786"
            ],
            [
             0.5555555555555556,
             "#d8576b"
            ],
            [
             0.6666666666666666,
             "#ed7953"
            ],
            [
             0.7777777777777778,
             "#fb9f3a"
            ],
            [
             0.8888888888888888,
             "#fdca26"
            ],
            [
             1,
             "#f0f921"
            ]
           ]
          },
          "colorway": [
           "#636efa",
           "#EF553B",
           "#00cc96",
           "#ab63fa",
           "#FFA15A",
           "#19d3f3",
           "#FF6692",
           "#B6E880",
           "#FF97FF",
           "#FECB52"
          ],
          "font": {
           "color": "#2a3f5f"
          },
          "geo": {
           "bgcolor": "white",
           "lakecolor": "white",
           "landcolor": "#E5ECF6",
           "showlakes": true,
           "showland": true,
           "subunitcolor": "white"
          },
          "hoverlabel": {
           "align": "left"
          },
          "hovermode": "closest",
          "mapbox": {
           "style": "light"
          },
          "paper_bgcolor": "white",
          "plot_bgcolor": "#E5ECF6",
          "polar": {
           "angularaxis": {
            "gridcolor": "white",
            "linecolor": "white",
            "ticks": ""
           },
           "bgcolor": "#E5ECF6",
           "radialaxis": {
            "gridcolor": "white",
            "linecolor": "white",
            "ticks": ""
           }
          },
          "scene": {
           "xaxis": {
            "backgroundcolor": "#E5ECF6",
            "gridcolor": "white",
            "gridwidth": 2,
            "linecolor": "white",
            "showbackground": true,
            "ticks": "",
            "zerolinecolor": "white"
           },
           "yaxis": {
            "backgroundcolor": "#E5ECF6",
            "gridcolor": "white",
            "gridwidth": 2,
            "linecolor": "white",
            "showbackground": true,
            "ticks": "",
            "zerolinecolor": "white"
           },
           "zaxis": {
            "backgroundcolor": "#E5ECF6",
            "gridcolor": "white",
            "gridwidth": 2,
            "linecolor": "white",
            "showbackground": true,
            "ticks": "",
            "zerolinecolor": "white"
           }
          },
          "shapedefaults": {
           "line": {
            "color": "#2a3f5f"
           }
          },
          "ternary": {
           "aaxis": {
            "gridcolor": "white",
            "linecolor": "white",
            "ticks": ""
           },
           "baxis": {
            "gridcolor": "white",
            "linecolor": "white",
            "ticks": ""
           },
           "bgcolor": "#E5ECF6",
           "caxis": {
            "gridcolor": "white",
            "linecolor": "white",
            "ticks": ""
           }
          },
          "title": {
           "x": 0.05
          },
          "xaxis": {
           "automargin": true,
           "gridcolor": "white",
           "linecolor": "white",
           "ticks": "",
           "title": {
            "standoff": 15
           },
           "zerolinecolor": "white",
           "zerolinewidth": 2
          },
          "yaxis": {
           "automargin": true,
           "gridcolor": "white",
           "linecolor": "white",
           "ticks": "",
           "title": {
            "standoff": 15
           },
           "zerolinecolor": "white",
           "zerolinewidth": 2
          }
         }
        }
       }
      },
      "text/html": [
       "<div>                            <div id=\"54cbcdc1-186a-407c-9f8e-6cdb0c8e1ef1\" class=\"plotly-graph-div\" style=\"height:525px; width:100%;\"></div>            <script type=\"text/javascript\">                require([\"plotly\"], function(Plotly) {                    window.PLOTLYENV=window.PLOTLYENV || {};                                    if (document.getElementById(\"54cbcdc1-186a-407c-9f8e-6cdb0c8e1ef1\")) {                    Plotly.newPlot(                        \"54cbcdc1-186a-407c-9f8e-6cdb0c8e1ef1\",                        [{\"boxpoints\":\"all\",\"name\":\"Snodgrass\",\"pointpos\":0,\"y\":[0.209,0.205,0.196,0.21,0.202,0.207,0.224,0.223,0.22,0.201],\"type\":\"box\"},{\"boxpoints\":\"all\",\"name\":\"Twain\",\"pointpos\":0,\"y\":[0.225,0.262,0.217,0.24,0.23,0.229,0.235,0.217],\"type\":\"box\"}],                        {\"template\":{\"data\":{\"barpolar\":[{\"marker\":{\"line\":{\"color\":\"#E5ECF6\",\"width\":0.5},\"pattern\":{\"fillmode\":\"overlay\",\"size\":10,\"solidity\":0.2}},\"type\":\"barpolar\"}],\"bar\":[{\"error_x\":{\"color\":\"#2a3f5f\"},\"error_y\":{\"color\":\"#2a3f5f\"},\"marker\":{\"line\":{\"color\":\"#E5ECF6\",\"width\":0.5},\"pattern\":{\"fillmode\":\"overlay\",\"size\":10,\"solidity\":0.2}},\"type\":\"bar\"}],\"carpet\":[{\"aaxis\":{\"endlinecolor\":\"#2a3f5f\",\"gridcolor\":\"white\",\"linecolor\":\"white\",\"minorgridcolor\":\"white\",\"startlinecolor\":\"#2a3f5f\"},\"baxis\":{\"endlinecolor\":\"#2a3f5f\",\"gridcolor\":\"white\",\"linecolor\":\"white\",\"minorgridcolor\":\"white\",\"startlinecolor\":\"#2a3f5f\"},\"type\":\"carpet\"}],\"choropleth\":[{\"colorbar\":{\"outlinewidth\":0,\"ticks\":\"\"},\"type\":\"choropleth\"}],\"contourcarpet\":[{\"colorbar\":{\"outlinewidth\":0,\"ticks\":\"\"},\"type\":\"contourcarpet\"}],\"contour\":[{\"colorbar\":{\"outlinewidth\":0,\"ticks\":\"\"},\"colorscale\":[[0.0,\"#0d0887\"],[0.1111111111111111,\"#46039f\"],[0.2222222222222222,\"#7201a8\"],[0.3333333333333333,\"#9c179e\"],[0.4444444444444444,\"#bd3786\"],[0.5555555555555556,\"#d8576b\"],[0.6666666666666666,\"#ed7953\"],[0.7777777777777778,\"#fb9f3a\"],[0.8888888888888888,\"#fdca26\"],[1.0,\"#f0f921\"]],\"type\":\"contour\"}],\"heatmapgl\":[{\"colorbar\":{\"outlinewidth\":0,\"ticks\":\"\"},\"colorscale\":[[0.0,\"#0d0887\"],[0.1111111111111111,\"#46039f\"],[0.2222222222222222,\"#7201a8\"],[0.3333333333333333,\"#9c179e\"],[0.4444444444444444,\"#bd3786\"],[0.5555555555555556,\"#d8576b\"],[0.6666666666666666,\"#ed7953\"],[0.7777777777777778,\"#fb9f3a\"],[0.8888888888888888,\"#fdca26\"],[1.0,\"#f0f921\"]],\"type\":\"heatmapgl\"}],\"heatmap\":[{\"colorbar\":{\"outlinewidth\":0,\"ticks\":\"\"},\"colorscale\":[[0.0,\"#0d0887\"],[0.1111111111111111,\"#46039f\"],[0.2222222222222222,\"#7201a8\"],[0.3333333333333333,\"#9c179e\"],[0.4444444444444444,\"#bd3786\"],[0.5555555555555556,\"#d8576b\"],[0.6666666666666666,\"#ed7953\"],[0.7777777777777778,\"#fb9f3a\"],[0.8888888888888888,\"#fdca26\"],[1.0,\"#f0f921\"]],\"type\":\"heatmap\"}],\"histogram2dcontour\":[{\"colorbar\":{\"outlinewidth\":0,\"ticks\":\"\"},\"colorscale\":[[0.0,\"#0d0887\"],[0.1111111111111111,\"#46039f\"],[0.2222222222222222,\"#7201a8\"],[0.3333333333333333,\"#9c179e\"],[0.4444444444444444,\"#bd3786\"],[0.5555555555555556,\"#d8576b\"],[0.6666666666666666,\"#ed7953\"],[0.7777777777777778,\"#fb9f3a\"],[0.8888888888888888,\"#fdca26\"],[1.0,\"#f0f921\"]],\"type\":\"histogram2dcontour\"}],\"histogram2d\":[{\"colorbar\":{\"outlinewidth\":0,\"ticks\":\"\"},\"colorscale\":[[0.0,\"#0d0887\"],[0.1111111111111111,\"#46039f\"],[0.2222222222222222,\"#7201a8\"],[0.3333333333333333,\"#9c179e\"],[0.4444444444444444,\"#bd3786\"],[0.5555555555555556,\"#d8576b\"],[0.6666666666666666,\"#ed7953\"],[0.7777777777777778,\"#fb9f3a\"],[0.8888888888888888,\"#fdca26\"],[1.0,\"#f0f921\"]],\"type\":\"histogram2d\"}],\"histogram\":[{\"marker\":{\"pattern\":{\"fillmode\":\"overlay\",\"size\":10,\"solidity\":0.2}},\"type\":\"histogram\"}],\"mesh3d\":[{\"colorbar\":{\"outlinewidth\":0,\"ticks\":\"\"},\"type\":\"mesh3d\"}],\"parcoords\":[{\"line\":{\"colorbar\":{\"outlinewidth\":0,\"ticks\":\"\"}},\"type\":\"parcoords\"}],\"pie\":[{\"automargin\":true,\"type\":\"pie\"}],\"scatter3d\":[{\"line\":{\"colorbar\":{\"outlinewidth\":0,\"ticks\":\"\"}},\"marker\":{\"colorbar\":{\"outlinewidth\":0,\"ticks\":\"\"}},\"type\":\"scatter3d\"}],\"scattercarpet\":[{\"marker\":{\"colorbar\":{\"outlinewidth\":0,\"ticks\":\"\"}},\"type\":\"scattercarpet\"}],\"scattergeo\":[{\"marker\":{\"colorbar\":{\"outlinewidth\":0,\"ticks\":\"\"}},\"type\":\"scattergeo\"}],\"scattergl\":[{\"marker\":{\"colorbar\":{\"outlinewidth\":0,\"ticks\":\"\"}},\"type\":\"scattergl\"}],\"scattermapbox\":[{\"marker\":{\"colorbar\":{\"outlinewidth\":0,\"ticks\":\"\"}},\"type\":\"scattermapbox\"}],\"scatterpolargl\":[{\"marker\":{\"colorbar\":{\"outlinewidth\":0,\"ticks\":\"\"}},\"type\":\"scatterpolargl\"}],\"scatterpolar\":[{\"marker\":{\"colorbar\":{\"outlinewidth\":0,\"ticks\":\"\"}},\"type\":\"scatterpolar\"}],\"scatter\":[{\"fillpattern\":{\"fillmode\":\"overlay\",\"size\":10,\"solidity\":0.2},\"type\":\"scatter\"}],\"scatterternary\":[{\"marker\":{\"colorbar\":{\"outlinewidth\":0,\"ticks\":\"\"}},\"type\":\"scatterternary\"}],\"surface\":[{\"colorbar\":{\"outlinewidth\":0,\"ticks\":\"\"},\"colorscale\":[[0.0,\"#0d0887\"],[0.1111111111111111,\"#46039f\"],[0.2222222222222222,\"#7201a8\"],[0.3333333333333333,\"#9c179e\"],[0.4444444444444444,\"#bd3786\"],[0.5555555555555556,\"#d8576b\"],[0.6666666666666666,\"#ed7953\"],[0.7777777777777778,\"#fb9f3a\"],[0.8888888888888888,\"#fdca26\"],[1.0,\"#f0f921\"]],\"type\":\"surface\"}],\"table\":[{\"cells\":{\"fill\":{\"color\":\"#EBF0F8\"},\"line\":{\"color\":\"white\"}},\"header\":{\"fill\":{\"color\":\"#C8D4E3\"},\"line\":{\"color\":\"white\"}},\"type\":\"table\"}]},\"layout\":{\"annotationdefaults\":{\"arrowcolor\":\"#2a3f5f\",\"arrowhead\":0,\"arrowwidth\":1},\"autotypenumbers\":\"strict\",\"coloraxis\":{\"colorbar\":{\"outlinewidth\":0,\"ticks\":\"\"}},\"colorscale\":{\"diverging\":[[0,\"#8e0152\"],[0.1,\"#c51b7d\"],[0.2,\"#de77ae\"],[0.3,\"#f1b6da\"],[0.4,\"#fde0ef\"],[0.5,\"#f7f7f7\"],[0.6,\"#e6f5d0\"],[0.7,\"#b8e186\"],[0.8,\"#7fbc41\"],[0.9,\"#4d9221\"],[1,\"#276419\"]],\"sequential\":[[0.0,\"#0d0887\"],[0.1111111111111111,\"#46039f\"],[0.2222222222222222,\"#7201a8\"],[0.3333333333333333,\"#9c179e\"],[0.4444444444444444,\"#bd3786\"],[0.5555555555555556,\"#d8576b\"],[0.6666666666666666,\"#ed7953\"],[0.7777777777777778,\"#fb9f3a\"],[0.8888888888888888,\"#fdca26\"],[1.0,\"#f0f921\"]],\"sequentialminus\":[[0.0,\"#0d0887\"],[0.1111111111111111,\"#46039f\"],[0.2222222222222222,\"#7201a8\"],[0.3333333333333333,\"#9c179e\"],[0.4444444444444444,\"#bd3786\"],[0.5555555555555556,\"#d8576b\"],[0.6666666666666666,\"#ed7953\"],[0.7777777777777778,\"#fb9f3a\"],[0.8888888888888888,\"#fdca26\"],[1.0,\"#f0f921\"]]},\"colorway\":[\"#636efa\",\"#EF553B\",\"#00cc96\",\"#ab63fa\",\"#FFA15A\",\"#19d3f3\",\"#FF6692\",\"#B6E880\",\"#FF97FF\",\"#FECB52\"],\"font\":{\"color\":\"#2a3f5f\"},\"geo\":{\"bgcolor\":\"white\",\"lakecolor\":\"white\",\"landcolor\":\"#E5ECF6\",\"showlakes\":true,\"showland\":true,\"subunitcolor\":\"white\"},\"hoverlabel\":{\"align\":\"left\"},\"hovermode\":\"closest\",\"mapbox\":{\"style\":\"light\"},\"paper_bgcolor\":\"white\",\"plot_bgcolor\":\"#E5ECF6\",\"polar\":{\"angularaxis\":{\"gridcolor\":\"white\",\"linecolor\":\"white\",\"ticks\":\"\"},\"bgcolor\":\"#E5ECF6\",\"radialaxis\":{\"gridcolor\":\"white\",\"linecolor\":\"white\",\"ticks\":\"\"}},\"scene\":{\"xaxis\":{\"backgroundcolor\":\"#E5ECF6\",\"gridcolor\":\"white\",\"gridwidth\":2,\"linecolor\":\"white\",\"showbackground\":true,\"ticks\":\"\",\"zerolinecolor\":\"white\"},\"yaxis\":{\"backgroundcolor\":\"#E5ECF6\",\"gridcolor\":\"white\",\"gridwidth\":2,\"linecolor\":\"white\",\"showbackground\":true,\"ticks\":\"\",\"zerolinecolor\":\"white\"},\"zaxis\":{\"backgroundcolor\":\"#E5ECF6\",\"gridcolor\":\"white\",\"gridwidth\":2,\"linecolor\":\"white\",\"showbackground\":true,\"ticks\":\"\",\"zerolinecolor\":\"white\"}},\"shapedefaults\":{\"line\":{\"color\":\"#2a3f5f\"}},\"ternary\":{\"aaxis\":{\"gridcolor\":\"white\",\"linecolor\":\"white\",\"ticks\":\"\"},\"baxis\":{\"gridcolor\":\"white\",\"linecolor\":\"white\",\"ticks\":\"\"},\"bgcolor\":\"#E5ECF6\",\"caxis\":{\"gridcolor\":\"white\",\"linecolor\":\"white\",\"ticks\":\"\"}},\"title\":{\"x\":0.05},\"xaxis\":{\"automargin\":true,\"gridcolor\":\"white\",\"linecolor\":\"white\",\"ticks\":\"\",\"title\":{\"standoff\":15},\"zerolinecolor\":\"white\",\"zerolinewidth\":2},\"yaxis\":{\"automargin\":true,\"gridcolor\":\"white\",\"linecolor\":\"white\",\"ticks\":\"\",\"title\":{\"standoff\":15},\"zerolinecolor\":\"white\",\"zerolinewidth\":2}}}},                        {\"responsive\": true}                    ).then(function(){\n",
       "                            \n",
       "var gd = document.getElementById('54cbcdc1-186a-407c-9f8e-6cdb0c8e1ef1');\n",
       "var x = new MutationObserver(function (mutations, observer) {{\n",
       "        var display = window.getComputedStyle(gd).display;\n",
       "        if (!display || display === 'none') {{\n",
       "            console.log([gd, 'removed!']);\n",
       "            Plotly.purge(gd);\n",
       "            observer.disconnect();\n",
       "        }}\n",
       "}});\n",
       "\n",
       "// Listen for the removal of the full notebook cells\n",
       "var notebookContainer = gd.closest('#notebook-container');\n",
       "if (notebookContainer) {{\n",
       "    x.observe(notebookContainer, {childList: true});\n",
       "}}\n",
       "\n",
       "// Listen for the clearing of the current output cell\n",
       "var outputEl = gd.closest('.output');\n",
       "if (outputEl) {{\n",
       "    x.observe(outputEl, {childList: true});\n",
       "}}\n",
       "\n",
       "                        })                };                });            </script>        </div>"
      ]
     },
     "metadata": {},
     "output_type": "display_data"
    }
   ],
   "source": [
    "#marktwain analysis\n",
    "snodgrass = [.209,.205,.196,.210,.202,.207,.224,.223,.220,.201]\n",
    "twain = [.225,.262,.217,.240,.230,.229,.235,.217]\n",
    "\n",
    "data = [go.Box(y=snodgrass,boxpoints='all',name='Snodgrass',pointpos=0),\n",
    "       go.Box(y=twain,boxpoints='all',name='Twain',pointpos=0)]\n",
    "\n",
    "pyo.iplot(data)"
   ]
  },
  {
   "cell_type": "markdown",
   "id": "218ccd5d",
   "metadata": {},
   "source": [
    "#### Box Plot Exercise - abalone dataset"
   ]
  },
  {
   "cell_type": "code",
   "execution_count": 35,
   "id": "c0a0eaf4",
   "metadata": {},
   "outputs": [
    {
     "data": {
      "text/html": [
       "<div>\n",
       "<style scoped>\n",
       "    .dataframe tbody tr th:only-of-type {\n",
       "        vertical-align: middle;\n",
       "    }\n",
       "\n",
       "    .dataframe tbody tr th {\n",
       "        vertical-align: top;\n",
       "    }\n",
       "\n",
       "    .dataframe thead th {\n",
       "        text-align: right;\n",
       "    }\n",
       "</style>\n",
       "<table border=\"1\" class=\"dataframe\">\n",
       "  <thead>\n",
       "    <tr style=\"text-align: right;\">\n",
       "      <th></th>\n",
       "      <th>sex</th>\n",
       "      <th>length</th>\n",
       "      <th>diameter</th>\n",
       "      <th>height</th>\n",
       "      <th>whole_weight</th>\n",
       "      <th>shucked_weight</th>\n",
       "      <th>viscera_weight</th>\n",
       "      <th>shell_weight</th>\n",
       "      <th>rings</th>\n",
       "    </tr>\n",
       "  </thead>\n",
       "  <tbody>\n",
       "    <tr>\n",
       "      <th>0</th>\n",
       "      <td>M</td>\n",
       "      <td>0.455</td>\n",
       "      <td>0.365</td>\n",
       "      <td>0.095</td>\n",
       "      <td>0.5140</td>\n",
       "      <td>0.2245</td>\n",
       "      <td>0.1010</td>\n",
       "      <td>0.1500</td>\n",
       "      <td>15</td>\n",
       "    </tr>\n",
       "    <tr>\n",
       "      <th>1</th>\n",
       "      <td>M</td>\n",
       "      <td>0.350</td>\n",
       "      <td>0.265</td>\n",
       "      <td>0.090</td>\n",
       "      <td>0.2255</td>\n",
       "      <td>0.0995</td>\n",
       "      <td>0.0485</td>\n",
       "      <td>0.0700</td>\n",
       "      <td>7</td>\n",
       "    </tr>\n",
       "    <tr>\n",
       "      <th>2</th>\n",
       "      <td>F</td>\n",
       "      <td>0.530</td>\n",
       "      <td>0.420</td>\n",
       "      <td>0.135</td>\n",
       "      <td>0.6770</td>\n",
       "      <td>0.2565</td>\n",
       "      <td>0.1415</td>\n",
       "      <td>0.2100</td>\n",
       "      <td>9</td>\n",
       "    </tr>\n",
       "    <tr>\n",
       "      <th>3</th>\n",
       "      <td>M</td>\n",
       "      <td>0.440</td>\n",
       "      <td>0.365</td>\n",
       "      <td>0.125</td>\n",
       "      <td>0.5160</td>\n",
       "      <td>0.2155</td>\n",
       "      <td>0.1140</td>\n",
       "      <td>0.1550</td>\n",
       "      <td>10</td>\n",
       "    </tr>\n",
       "    <tr>\n",
       "      <th>4</th>\n",
       "      <td>I</td>\n",
       "      <td>0.330</td>\n",
       "      <td>0.255</td>\n",
       "      <td>0.080</td>\n",
       "      <td>0.2050</td>\n",
       "      <td>0.0895</td>\n",
       "      <td>0.0395</td>\n",
       "      <td>0.0550</td>\n",
       "      <td>7</td>\n",
       "    </tr>\n",
       "    <tr>\n",
       "      <th>...</th>\n",
       "      <td>...</td>\n",
       "      <td>...</td>\n",
       "      <td>...</td>\n",
       "      <td>...</td>\n",
       "      <td>...</td>\n",
       "      <td>...</td>\n",
       "      <td>...</td>\n",
       "      <td>...</td>\n",
       "      <td>...</td>\n",
       "    </tr>\n",
       "    <tr>\n",
       "      <th>4172</th>\n",
       "      <td>F</td>\n",
       "      <td>0.565</td>\n",
       "      <td>0.450</td>\n",
       "      <td>0.165</td>\n",
       "      <td>0.8870</td>\n",
       "      <td>0.3700</td>\n",
       "      <td>0.2390</td>\n",
       "      <td>0.2490</td>\n",
       "      <td>11</td>\n",
       "    </tr>\n",
       "    <tr>\n",
       "      <th>4173</th>\n",
       "      <td>M</td>\n",
       "      <td>0.590</td>\n",
       "      <td>0.440</td>\n",
       "      <td>0.135</td>\n",
       "      <td>0.9660</td>\n",
       "      <td>0.4390</td>\n",
       "      <td>0.2145</td>\n",
       "      <td>0.2605</td>\n",
       "      <td>10</td>\n",
       "    </tr>\n",
       "    <tr>\n",
       "      <th>4174</th>\n",
       "      <td>M</td>\n",
       "      <td>0.600</td>\n",
       "      <td>0.475</td>\n",
       "      <td>0.205</td>\n",
       "      <td>1.1760</td>\n",
       "      <td>0.5255</td>\n",
       "      <td>0.2875</td>\n",
       "      <td>0.3080</td>\n",
       "      <td>9</td>\n",
       "    </tr>\n",
       "    <tr>\n",
       "      <th>4175</th>\n",
       "      <td>F</td>\n",
       "      <td>0.625</td>\n",
       "      <td>0.485</td>\n",
       "      <td>0.150</td>\n",
       "      <td>1.0945</td>\n",
       "      <td>0.5310</td>\n",
       "      <td>0.2610</td>\n",
       "      <td>0.2960</td>\n",
       "      <td>10</td>\n",
       "    </tr>\n",
       "    <tr>\n",
       "      <th>4176</th>\n",
       "      <td>M</td>\n",
       "      <td>0.710</td>\n",
       "      <td>0.555</td>\n",
       "      <td>0.195</td>\n",
       "      <td>1.9485</td>\n",
       "      <td>0.9455</td>\n",
       "      <td>0.3765</td>\n",
       "      <td>0.4950</td>\n",
       "      <td>12</td>\n",
       "    </tr>\n",
       "  </tbody>\n",
       "</table>\n",
       "<p>4177 rows × 9 columns</p>\n",
       "</div>"
      ],
      "text/plain": [
       "     sex  length  diameter  height  whole_weight  shucked_weight  \\\n",
       "0      M   0.455     0.365   0.095        0.5140          0.2245   \n",
       "1      M   0.350     0.265   0.090        0.2255          0.0995   \n",
       "2      F   0.530     0.420   0.135        0.6770          0.2565   \n",
       "3      M   0.440     0.365   0.125        0.5160          0.2155   \n",
       "4      I   0.330     0.255   0.080        0.2050          0.0895   \n",
       "...   ..     ...       ...     ...           ...             ...   \n",
       "4172   F   0.565     0.450   0.165        0.8870          0.3700   \n",
       "4173   M   0.590     0.440   0.135        0.9660          0.4390   \n",
       "4174   M   0.600     0.475   0.205        1.1760          0.5255   \n",
       "4175   F   0.625     0.485   0.150        1.0945          0.5310   \n",
       "4176   M   0.710     0.555   0.195        1.9485          0.9455   \n",
       "\n",
       "      viscera_weight  shell_weight  rings  \n",
       "0             0.1010        0.1500     15  \n",
       "1             0.0485        0.0700      7  \n",
       "2             0.1415        0.2100      9  \n",
       "3             0.1140        0.1550     10  \n",
       "4             0.0395        0.0550      7  \n",
       "...              ...           ...    ...  \n",
       "4172          0.2390        0.2490     11  \n",
       "4173          0.2145        0.2605     10  \n",
       "4174          0.2875        0.3080      9  \n",
       "4175          0.2610        0.2960     10  \n",
       "4176          0.3765        0.4950     12  \n",
       "\n",
       "[4177 rows x 9 columns]"
      ]
     },
     "execution_count": 35,
     "metadata": {},
     "output_type": "execute_result"
    }
   ],
   "source": [
    "ab = pd.read_csv('data/abalone.csv')\n",
    "ab"
   ]
  },
  {
   "cell_type": "code",
   "execution_count": 39,
   "id": "00b5e5c3",
   "metadata": {},
   "outputs": [],
   "source": [
    "#get samples from 'ring' column\n",
    "ab1 = np.random.choice(ab['rings'],50,replace=False)\n",
    "ab2 = np.random.choice(ab['rings'],50,replace=False)"
   ]
  },
  {
   "cell_type": "code",
   "execution_count": 49,
   "id": "b984d332",
   "metadata": {},
   "outputs": [
    {
     "data": {
      "application/vnd.plotly.v1+json": {
       "config": {
        "linkText": "Export to plot.ly",
        "plotlyServerURL": "https://plot.ly",
        "showLink": false
       },
       "data": [
        {
         "boxmean": true,
         "boxpoints": "all",
         "pointpos": 0,
         "type": "box",
         "x": [
          7,
          9,
          10,
          7,
          5,
          9,
          10,
          15,
          10,
          10
         ]
        },
        {
         "boxpoints": "all",
         "pointpos": 0,
         "type": "box",
         "x": [
          13,
          11,
          18,
          9,
          9,
          9,
          9,
          11,
          10,
          7
         ]
        }
       ],
       "layout": {
        "template": {
         "data": {
          "bar": [
           {
            "error_x": {
             "color": "#2a3f5f"
            },
            "error_y": {
             "color": "#2a3f5f"
            },
            "marker": {
             "line": {
              "color": "#E5ECF6",
              "width": 0.5
             },
             "pattern": {
              "fillmode": "overlay",
              "size": 10,
              "solidity": 0.2
             }
            },
            "type": "bar"
           }
          ],
          "barpolar": [
           {
            "marker": {
             "line": {
              "color": "#E5ECF6",
              "width": 0.5
             },
             "pattern": {
              "fillmode": "overlay",
              "size": 10,
              "solidity": 0.2
             }
            },
            "type": "barpolar"
           }
          ],
          "carpet": [
           {
            "aaxis": {
             "endlinecolor": "#2a3f5f",
             "gridcolor": "white",
             "linecolor": "white",
             "minorgridcolor": "white",
             "startlinecolor": "#2a3f5f"
            },
            "baxis": {
             "endlinecolor": "#2a3f5f",
             "gridcolor": "white",
             "linecolor": "white",
             "minorgridcolor": "white",
             "startlinecolor": "#2a3f5f"
            },
            "type": "carpet"
           }
          ],
          "choropleth": [
           {
            "colorbar": {
             "outlinewidth": 0,
             "ticks": ""
            },
            "type": "choropleth"
           }
          ],
          "contour": [
           {
            "colorbar": {
             "outlinewidth": 0,
             "ticks": ""
            },
            "colorscale": [
             [
              0,
              "#0d0887"
             ],
             [
              0.1111111111111111,
              "#46039f"
             ],
             [
              0.2222222222222222,
              "#7201a8"
             ],
             [
              0.3333333333333333,
              "#9c179e"
             ],
             [
              0.4444444444444444,
              "#bd3786"
             ],
             [
              0.5555555555555556,
              "#d8576b"
             ],
             [
              0.6666666666666666,
              "#ed7953"
             ],
             [
              0.7777777777777778,
              "#fb9f3a"
             ],
             [
              0.8888888888888888,
              "#fdca26"
             ],
             [
              1,
              "#f0f921"
             ]
            ],
            "type": "contour"
           }
          ],
          "contourcarpet": [
           {
            "colorbar": {
             "outlinewidth": 0,
             "ticks": ""
            },
            "type": "contourcarpet"
           }
          ],
          "heatmap": [
           {
            "colorbar": {
             "outlinewidth": 0,
             "ticks": ""
            },
            "colorscale": [
             [
              0,
              "#0d0887"
             ],
             [
              0.1111111111111111,
              "#46039f"
             ],
             [
              0.2222222222222222,
              "#7201a8"
             ],
             [
              0.3333333333333333,
              "#9c179e"
             ],
             [
              0.4444444444444444,
              "#bd3786"
             ],
             [
              0.5555555555555556,
              "#d8576b"
             ],
             [
              0.6666666666666666,
              "#ed7953"
             ],
             [
              0.7777777777777778,
              "#fb9f3a"
             ],
             [
              0.8888888888888888,
              "#fdca26"
             ],
             [
              1,
              "#f0f921"
             ]
            ],
            "type": "heatmap"
           }
          ],
          "heatmapgl": [
           {
            "colorbar": {
             "outlinewidth": 0,
             "ticks": ""
            },
            "colorscale": [
             [
              0,
              "#0d0887"
             ],
             [
              0.1111111111111111,
              "#46039f"
             ],
             [
              0.2222222222222222,
              "#7201a8"
             ],
             [
              0.3333333333333333,
              "#9c179e"
             ],
             [
              0.4444444444444444,
              "#bd3786"
             ],
             [
              0.5555555555555556,
              "#d8576b"
             ],
             [
              0.6666666666666666,
              "#ed7953"
             ],
             [
              0.7777777777777778,
              "#fb9f3a"
             ],
             [
              0.8888888888888888,
              "#fdca26"
             ],
             [
              1,
              "#f0f921"
             ]
            ],
            "type": "heatmapgl"
           }
          ],
          "histogram": [
           {
            "marker": {
             "pattern": {
              "fillmode": "overlay",
              "size": 10,
              "solidity": 0.2
             }
            },
            "type": "histogram"
           }
          ],
          "histogram2d": [
           {
            "colorbar": {
             "outlinewidth": 0,
             "ticks": ""
            },
            "colorscale": [
             [
              0,
              "#0d0887"
             ],
             [
              0.1111111111111111,
              "#46039f"
             ],
             [
              0.2222222222222222,
              "#7201a8"
             ],
             [
              0.3333333333333333,
              "#9c179e"
             ],
             [
              0.4444444444444444,
              "#bd3786"
             ],
             [
              0.5555555555555556,
              "#d8576b"
             ],
             [
              0.6666666666666666,
              "#ed7953"
             ],
             [
              0.7777777777777778,
              "#fb9f3a"
             ],
             [
              0.8888888888888888,
              "#fdca26"
             ],
             [
              1,
              "#f0f921"
             ]
            ],
            "type": "histogram2d"
           }
          ],
          "histogram2dcontour": [
           {
            "colorbar": {
             "outlinewidth": 0,
             "ticks": ""
            },
            "colorscale": [
             [
              0,
              "#0d0887"
             ],
             [
              0.1111111111111111,
              "#46039f"
             ],
             [
              0.2222222222222222,
              "#7201a8"
             ],
             [
              0.3333333333333333,
              "#9c179e"
             ],
             [
              0.4444444444444444,
              "#bd3786"
             ],
             [
              0.5555555555555556,
              "#d8576b"
             ],
             [
              0.6666666666666666,
              "#ed7953"
             ],
             [
              0.7777777777777778,
              "#fb9f3a"
             ],
             [
              0.8888888888888888,
              "#fdca26"
             ],
             [
              1,
              "#f0f921"
             ]
            ],
            "type": "histogram2dcontour"
           }
          ],
          "mesh3d": [
           {
            "colorbar": {
             "outlinewidth": 0,
             "ticks": ""
            },
            "type": "mesh3d"
           }
          ],
          "parcoords": [
           {
            "line": {
             "colorbar": {
              "outlinewidth": 0,
              "ticks": ""
             }
            },
            "type": "parcoords"
           }
          ],
          "pie": [
           {
            "automargin": true,
            "type": "pie"
           }
          ],
          "scatter": [
           {
            "fillpattern": {
             "fillmode": "overlay",
             "size": 10,
             "solidity": 0.2
            },
            "type": "scatter"
           }
          ],
          "scatter3d": [
           {
            "line": {
             "colorbar": {
              "outlinewidth": 0,
              "ticks": ""
             }
            },
            "marker": {
             "colorbar": {
              "outlinewidth": 0,
              "ticks": ""
             }
            },
            "type": "scatter3d"
           }
          ],
          "scattercarpet": [
           {
            "marker": {
             "colorbar": {
              "outlinewidth": 0,
              "ticks": ""
             }
            },
            "type": "scattercarpet"
           }
          ],
          "scattergeo": [
           {
            "marker": {
             "colorbar": {
              "outlinewidth": 0,
              "ticks": ""
             }
            },
            "type": "scattergeo"
           }
          ],
          "scattergl": [
           {
            "marker": {
             "colorbar": {
              "outlinewidth": 0,
              "ticks": ""
             }
            },
            "type": "scattergl"
           }
          ],
          "scattermapbox": [
           {
            "marker": {
             "colorbar": {
              "outlinewidth": 0,
              "ticks": ""
             }
            },
            "type": "scattermapbox"
           }
          ],
          "scatterpolar": [
           {
            "marker": {
             "colorbar": {
              "outlinewidth": 0,
              "ticks": ""
             }
            },
            "type": "scatterpolar"
           }
          ],
          "scatterpolargl": [
           {
            "marker": {
             "colorbar": {
              "outlinewidth": 0,
              "ticks": ""
             }
            },
            "type": "scatterpolargl"
           }
          ],
          "scatterternary": [
           {
            "marker": {
             "colorbar": {
              "outlinewidth": 0,
              "ticks": ""
             }
            },
            "type": "scatterternary"
           }
          ],
          "surface": [
           {
            "colorbar": {
             "outlinewidth": 0,
             "ticks": ""
            },
            "colorscale": [
             [
              0,
              "#0d0887"
             ],
             [
              0.1111111111111111,
              "#46039f"
             ],
             [
              0.2222222222222222,
              "#7201a8"
             ],
             [
              0.3333333333333333,
              "#9c179e"
             ],
             [
              0.4444444444444444,
              "#bd3786"
             ],
             [
              0.5555555555555556,
              "#d8576b"
             ],
             [
              0.6666666666666666,
              "#ed7953"
             ],
             [
              0.7777777777777778,
              "#fb9f3a"
             ],
             [
              0.8888888888888888,
              "#fdca26"
             ],
             [
              1,
              "#f0f921"
             ]
            ],
            "type": "surface"
           }
          ],
          "table": [
           {
            "cells": {
             "fill": {
              "color": "#EBF0F8"
             },
             "line": {
              "color": "white"
             }
            },
            "header": {
             "fill": {
              "color": "#C8D4E3"
             },
             "line": {
              "color": "white"
             }
            },
            "type": "table"
           }
          ]
         },
         "layout": {
          "annotationdefaults": {
           "arrowcolor": "#2a3f5f",
           "arrowhead": 0,
           "arrowwidth": 1
          },
          "autotypenumbers": "strict",
          "coloraxis": {
           "colorbar": {
            "outlinewidth": 0,
            "ticks": ""
           }
          },
          "colorscale": {
           "diverging": [
            [
             0,
             "#8e0152"
            ],
            [
             0.1,
             "#c51b7d"
            ],
            [
             0.2,
             "#de77ae"
            ],
            [
             0.3,
             "#f1b6da"
            ],
            [
             0.4,
             "#fde0ef"
            ],
            [
             0.5,
             "#f7f7f7"
            ],
            [
             0.6,
             "#e6f5d0"
            ],
            [
             0.7,
             "#b8e186"
            ],
            [
             0.8,
             "#7fbc41"
            ],
            [
             0.9,
             "#4d9221"
            ],
            [
             1,
             "#276419"
            ]
           ],
           "sequential": [
            [
             0,
             "#0d0887"
            ],
            [
             0.1111111111111111,
             "#46039f"
            ],
            [
             0.2222222222222222,
             "#7201a8"
            ],
            [
             0.3333333333333333,
             "#9c179e"
            ],
            [
             0.4444444444444444,
             "#bd3786"
            ],
            [
             0.5555555555555556,
             "#d8576b"
            ],
            [
             0.6666666666666666,
             "#ed7953"
            ],
            [
             0.7777777777777778,
             "#fb9f3a"
            ],
            [
             0.8888888888888888,
             "#fdca26"
            ],
            [
             1,
             "#f0f921"
            ]
           ],
           "sequentialminus": [
            [
             0,
             "#0d0887"
            ],
            [
             0.1111111111111111,
             "#46039f"
            ],
            [
             0.2222222222222222,
             "#7201a8"
            ],
            [
             0.3333333333333333,
             "#9c179e"
            ],
            [
             0.4444444444444444,
             "#bd3786"
            ],
            [
             0.5555555555555556,
             "#d8576b"
            ],
            [
             0.6666666666666666,
             "#ed7953"
            ],
            [
             0.7777777777777778,
             "#fb9f3a"
            ],
            [
             0.8888888888888888,
             "#fdca26"
            ],
            [
             1,
             "#f0f921"
            ]
           ]
          },
          "colorway": [
           "#636efa",
           "#EF553B",
           "#00cc96",
           "#ab63fa",
           "#FFA15A",
           "#19d3f3",
           "#FF6692",
           "#B6E880",
           "#FF97FF",
           "#FECB52"
          ],
          "font": {
           "color": "#2a3f5f"
          },
          "geo": {
           "bgcolor": "white",
           "lakecolor": "white",
           "landcolor": "#E5ECF6",
           "showlakes": true,
           "showland": true,
           "subunitcolor": "white"
          },
          "hoverlabel": {
           "align": "left"
          },
          "hovermode": "closest",
          "mapbox": {
           "style": "light"
          },
          "paper_bgcolor": "white",
          "plot_bgcolor": "#E5ECF6",
          "polar": {
           "angularaxis": {
            "gridcolor": "white",
            "linecolor": "white",
            "ticks": ""
           },
           "bgcolor": "#E5ECF6",
           "radialaxis": {
            "gridcolor": "white",
            "linecolor": "white",
            "ticks": ""
           }
          },
          "scene": {
           "xaxis": {
            "backgroundcolor": "#E5ECF6",
            "gridcolor": "white",
            "gridwidth": 2,
            "linecolor": "white",
            "showbackground": true,
            "ticks": "",
            "zerolinecolor": "white"
           },
           "yaxis": {
            "backgroundcolor": "#E5ECF6",
            "gridcolor": "white",
            "gridwidth": 2,
            "linecolor": "white",
            "showbackground": true,
            "ticks": "",
            "zerolinecolor": "white"
           },
           "zaxis": {
            "backgroundcolor": "#E5ECF6",
            "gridcolor": "white",
            "gridwidth": 2,
            "linecolor": "white",
            "showbackground": true,
            "ticks": "",
            "zerolinecolor": "white"
           }
          },
          "shapedefaults": {
           "line": {
            "color": "#2a3f5f"
           }
          },
          "ternary": {
           "aaxis": {
            "gridcolor": "white",
            "linecolor": "white",
            "ticks": ""
           },
           "baxis": {
            "gridcolor": "white",
            "linecolor": "white",
            "ticks": ""
           },
           "bgcolor": "#E5ECF6",
           "caxis": {
            "gridcolor": "white",
            "linecolor": "white",
            "ticks": ""
           }
          },
          "title": {
           "x": 0.05
          },
          "xaxis": {
           "automargin": true,
           "gridcolor": "white",
           "linecolor": "white",
           "ticks": "",
           "title": {
            "standoff": 15
           },
           "zerolinecolor": "white",
           "zerolinewidth": 2
          },
          "yaxis": {
           "automargin": true,
           "gridcolor": "white",
           "linecolor": "white",
           "ticks": "",
           "title": {
            "standoff": 15
           },
           "zerolinecolor": "white",
           "zerolinewidth": 2
          }
         }
        },
        "title": {
         "text": "2 Random Abalone Ring samples"
        }
       }
      },
      "text/html": [
       "<div>                            <div id=\"268b1621-eccc-4d8b-902a-35cc0fb2da4f\" class=\"plotly-graph-div\" style=\"height:525px; width:100%;\"></div>            <script type=\"text/javascript\">                require([\"plotly\"], function(Plotly) {                    window.PLOTLYENV=window.PLOTLYENV || {};                                    if (document.getElementById(\"268b1621-eccc-4d8b-902a-35cc0fb2da4f\")) {                    Plotly.newPlot(                        \"268b1621-eccc-4d8b-902a-35cc0fb2da4f\",                        [{\"boxmean\":true,\"boxpoints\":\"all\",\"pointpos\":0,\"x\":[7,9,10,7,5,9,10,15,10,10],\"type\":\"box\"},{\"boxpoints\":\"all\",\"pointpos\":0,\"x\":[13,11,18,9,9,9,9,11,10,7],\"type\":\"box\"}],                        {\"template\":{\"data\":{\"barpolar\":[{\"marker\":{\"line\":{\"color\":\"#E5ECF6\",\"width\":0.5},\"pattern\":{\"fillmode\":\"overlay\",\"size\":10,\"solidity\":0.2}},\"type\":\"barpolar\"}],\"bar\":[{\"error_x\":{\"color\":\"#2a3f5f\"},\"error_y\":{\"color\":\"#2a3f5f\"},\"marker\":{\"line\":{\"color\":\"#E5ECF6\",\"width\":0.5},\"pattern\":{\"fillmode\":\"overlay\",\"size\":10,\"solidity\":0.2}},\"type\":\"bar\"}],\"carpet\":[{\"aaxis\":{\"endlinecolor\":\"#2a3f5f\",\"gridcolor\":\"white\",\"linecolor\":\"white\",\"minorgridcolor\":\"white\",\"startlinecolor\":\"#2a3f5f\"},\"baxis\":{\"endlinecolor\":\"#2a3f5f\",\"gridcolor\":\"white\",\"linecolor\":\"white\",\"minorgridcolor\":\"white\",\"startlinecolor\":\"#2a3f5f\"},\"type\":\"carpet\"}],\"choropleth\":[{\"colorbar\":{\"outlinewidth\":0,\"ticks\":\"\"},\"type\":\"choropleth\"}],\"contourcarpet\":[{\"colorbar\":{\"outlinewidth\":0,\"ticks\":\"\"},\"type\":\"contourcarpet\"}],\"contour\":[{\"colorbar\":{\"outlinewidth\":0,\"ticks\":\"\"},\"colorscale\":[[0.0,\"#0d0887\"],[0.1111111111111111,\"#46039f\"],[0.2222222222222222,\"#7201a8\"],[0.3333333333333333,\"#9c179e\"],[0.4444444444444444,\"#bd3786\"],[0.5555555555555556,\"#d8576b\"],[0.6666666666666666,\"#ed7953\"],[0.7777777777777778,\"#fb9f3a\"],[0.8888888888888888,\"#fdca26\"],[1.0,\"#f0f921\"]],\"type\":\"contour\"}],\"heatmapgl\":[{\"colorbar\":{\"outlinewidth\":0,\"ticks\":\"\"},\"colorscale\":[[0.0,\"#0d0887\"],[0.1111111111111111,\"#46039f\"],[0.2222222222222222,\"#7201a8\"],[0.3333333333333333,\"#9c179e\"],[0.4444444444444444,\"#bd3786\"],[0.5555555555555556,\"#d8576b\"],[0.6666666666666666,\"#ed7953\"],[0.7777777777777778,\"#fb9f3a\"],[0.8888888888888888,\"#fdca26\"],[1.0,\"#f0f921\"]],\"type\":\"heatmapgl\"}],\"heatmap\":[{\"colorbar\":{\"outlinewidth\":0,\"ticks\":\"\"},\"colorscale\":[[0.0,\"#0d0887\"],[0.1111111111111111,\"#46039f\"],[0.2222222222222222,\"#7201a8\"],[0.3333333333333333,\"#9c179e\"],[0.4444444444444444,\"#bd3786\"],[0.5555555555555556,\"#d8576b\"],[0.6666666666666666,\"#ed7953\"],[0.7777777777777778,\"#fb9f3a\"],[0.8888888888888888,\"#fdca26\"],[1.0,\"#f0f921\"]],\"type\":\"heatmap\"}],\"histogram2dcontour\":[{\"colorbar\":{\"outlinewidth\":0,\"ticks\":\"\"},\"colorscale\":[[0.0,\"#0d0887\"],[0.1111111111111111,\"#46039f\"],[0.2222222222222222,\"#7201a8\"],[0.3333333333333333,\"#9c179e\"],[0.4444444444444444,\"#bd3786\"],[0.5555555555555556,\"#d8576b\"],[0.6666666666666666,\"#ed7953\"],[0.7777777777777778,\"#fb9f3a\"],[0.8888888888888888,\"#fdca26\"],[1.0,\"#f0f921\"]],\"type\":\"histogram2dcontour\"}],\"histogram2d\":[{\"colorbar\":{\"outlinewidth\":0,\"ticks\":\"\"},\"colorscale\":[[0.0,\"#0d0887\"],[0.1111111111111111,\"#46039f\"],[0.2222222222222222,\"#7201a8\"],[0.3333333333333333,\"#9c179e\"],[0.4444444444444444,\"#bd3786\"],[0.5555555555555556,\"#d8576b\"],[0.6666666666666666,\"#ed7953\"],[0.7777777777777778,\"#fb9f3a\"],[0.8888888888888888,\"#fdca26\"],[1.0,\"#f0f921\"]],\"type\":\"histogram2d\"}],\"histogram\":[{\"marker\":{\"pattern\":{\"fillmode\":\"overlay\",\"size\":10,\"solidity\":0.2}},\"type\":\"histogram\"}],\"mesh3d\":[{\"colorbar\":{\"outlinewidth\":0,\"ticks\":\"\"},\"type\":\"mesh3d\"}],\"parcoords\":[{\"line\":{\"colorbar\":{\"outlinewidth\":0,\"ticks\":\"\"}},\"type\":\"parcoords\"}],\"pie\":[{\"automargin\":true,\"type\":\"pie\"}],\"scatter3d\":[{\"line\":{\"colorbar\":{\"outlinewidth\":0,\"ticks\":\"\"}},\"marker\":{\"colorbar\":{\"outlinewidth\":0,\"ticks\":\"\"}},\"type\":\"scatter3d\"}],\"scattercarpet\":[{\"marker\":{\"colorbar\":{\"outlinewidth\":0,\"ticks\":\"\"}},\"type\":\"scattercarpet\"}],\"scattergeo\":[{\"marker\":{\"colorbar\":{\"outlinewidth\":0,\"ticks\":\"\"}},\"type\":\"scattergeo\"}],\"scattergl\":[{\"marker\":{\"colorbar\":{\"outlinewidth\":0,\"ticks\":\"\"}},\"type\":\"scattergl\"}],\"scattermapbox\":[{\"marker\":{\"colorbar\":{\"outlinewidth\":0,\"ticks\":\"\"}},\"type\":\"scattermapbox\"}],\"scatterpolargl\":[{\"marker\":{\"colorbar\":{\"outlinewidth\":0,\"ticks\":\"\"}},\"type\":\"scatterpolargl\"}],\"scatterpolar\":[{\"marker\":{\"colorbar\":{\"outlinewidth\":0,\"ticks\":\"\"}},\"type\":\"scatterpolar\"}],\"scatter\":[{\"fillpattern\":{\"fillmode\":\"overlay\",\"size\":10,\"solidity\":0.2},\"type\":\"scatter\"}],\"scatterternary\":[{\"marker\":{\"colorbar\":{\"outlinewidth\":0,\"ticks\":\"\"}},\"type\":\"scatterternary\"}],\"surface\":[{\"colorbar\":{\"outlinewidth\":0,\"ticks\":\"\"},\"colorscale\":[[0.0,\"#0d0887\"],[0.1111111111111111,\"#46039f\"],[0.2222222222222222,\"#7201a8\"],[0.3333333333333333,\"#9c179e\"],[0.4444444444444444,\"#bd3786\"],[0.5555555555555556,\"#d8576b\"],[0.6666666666666666,\"#ed7953\"],[0.7777777777777778,\"#fb9f3a\"],[0.8888888888888888,\"#fdca26\"],[1.0,\"#f0f921\"]],\"type\":\"surface\"}],\"table\":[{\"cells\":{\"fill\":{\"color\":\"#EBF0F8\"},\"line\":{\"color\":\"white\"}},\"header\":{\"fill\":{\"color\":\"#C8D4E3\"},\"line\":{\"color\":\"white\"}},\"type\":\"table\"}]},\"layout\":{\"annotationdefaults\":{\"arrowcolor\":\"#2a3f5f\",\"arrowhead\":0,\"arrowwidth\":1},\"autotypenumbers\":\"strict\",\"coloraxis\":{\"colorbar\":{\"outlinewidth\":0,\"ticks\":\"\"}},\"colorscale\":{\"diverging\":[[0,\"#8e0152\"],[0.1,\"#c51b7d\"],[0.2,\"#de77ae\"],[0.3,\"#f1b6da\"],[0.4,\"#fde0ef\"],[0.5,\"#f7f7f7\"],[0.6,\"#e6f5d0\"],[0.7,\"#b8e186\"],[0.8,\"#7fbc41\"],[0.9,\"#4d9221\"],[1,\"#276419\"]],\"sequential\":[[0.0,\"#0d0887\"],[0.1111111111111111,\"#46039f\"],[0.2222222222222222,\"#7201a8\"],[0.3333333333333333,\"#9c179e\"],[0.4444444444444444,\"#bd3786\"],[0.5555555555555556,\"#d8576b\"],[0.6666666666666666,\"#ed7953\"],[0.7777777777777778,\"#fb9f3a\"],[0.8888888888888888,\"#fdca26\"],[1.0,\"#f0f921\"]],\"sequentialminus\":[[0.0,\"#0d0887\"],[0.1111111111111111,\"#46039f\"],[0.2222222222222222,\"#7201a8\"],[0.3333333333333333,\"#9c179e\"],[0.4444444444444444,\"#bd3786\"],[0.5555555555555556,\"#d8576b\"],[0.6666666666666666,\"#ed7953\"],[0.7777777777777778,\"#fb9f3a\"],[0.8888888888888888,\"#fdca26\"],[1.0,\"#f0f921\"]]},\"colorway\":[\"#636efa\",\"#EF553B\",\"#00cc96\",\"#ab63fa\",\"#FFA15A\",\"#19d3f3\",\"#FF6692\",\"#B6E880\",\"#FF97FF\",\"#FECB52\"],\"font\":{\"color\":\"#2a3f5f\"},\"geo\":{\"bgcolor\":\"white\",\"lakecolor\":\"white\",\"landcolor\":\"#E5ECF6\",\"showlakes\":true,\"showland\":true,\"subunitcolor\":\"white\"},\"hoverlabel\":{\"align\":\"left\"},\"hovermode\":\"closest\",\"mapbox\":{\"style\":\"light\"},\"paper_bgcolor\":\"white\",\"plot_bgcolor\":\"#E5ECF6\",\"polar\":{\"angularaxis\":{\"gridcolor\":\"white\",\"linecolor\":\"white\",\"ticks\":\"\"},\"bgcolor\":\"#E5ECF6\",\"radialaxis\":{\"gridcolor\":\"white\",\"linecolor\":\"white\",\"ticks\":\"\"}},\"scene\":{\"xaxis\":{\"backgroundcolor\":\"#E5ECF6\",\"gridcolor\":\"white\",\"gridwidth\":2,\"linecolor\":\"white\",\"showbackground\":true,\"ticks\":\"\",\"zerolinecolor\":\"white\"},\"yaxis\":{\"backgroundcolor\":\"#E5ECF6\",\"gridcolor\":\"white\",\"gridwidth\":2,\"linecolor\":\"white\",\"showbackground\":true,\"ticks\":\"\",\"zerolinecolor\":\"white\"},\"zaxis\":{\"backgroundcolor\":\"#E5ECF6\",\"gridcolor\":\"white\",\"gridwidth\":2,\"linecolor\":\"white\",\"showbackground\":true,\"ticks\":\"\",\"zerolinecolor\":\"white\"}},\"shapedefaults\":{\"line\":{\"color\":\"#2a3f5f\"}},\"ternary\":{\"aaxis\":{\"gridcolor\":\"white\",\"linecolor\":\"white\",\"ticks\":\"\"},\"baxis\":{\"gridcolor\":\"white\",\"linecolor\":\"white\",\"ticks\":\"\"},\"bgcolor\":\"#E5ECF6\",\"caxis\":{\"gridcolor\":\"white\",\"linecolor\":\"white\",\"ticks\":\"\"}},\"title\":{\"x\":0.05},\"xaxis\":{\"automargin\":true,\"gridcolor\":\"white\",\"linecolor\":\"white\",\"ticks\":\"\",\"title\":{\"standoff\":15},\"zerolinecolor\":\"white\",\"zerolinewidth\":2},\"yaxis\":{\"automargin\":true,\"gridcolor\":\"white\",\"linecolor\":\"white\",\"ticks\":\"\",\"title\":{\"standoff\":15},\"zerolinecolor\":\"white\",\"zerolinewidth\":2}}},\"title\":{\"text\":\"2 Random Abalone Ring samples\"}},                        {\"responsive\": true}                    ).then(function(){\n",
       "                            \n",
       "var gd = document.getElementById('268b1621-eccc-4d8b-902a-35cc0fb2da4f');\n",
       "var x = new MutationObserver(function (mutations, observer) {{\n",
       "        var display = window.getComputedStyle(gd).display;\n",
       "        if (!display || display === 'none') {{\n",
       "            console.log([gd, 'removed!']);\n",
       "            Plotly.purge(gd);\n",
       "            observer.disconnect();\n",
       "        }}\n",
       "}});\n",
       "\n",
       "// Listen for the removal of the full notebook cells\n",
       "var notebookContainer = gd.closest('#notebook-container');\n",
       "if (notebookContainer) {{\n",
       "    x.observe(notebookContainer, {childList: true});\n",
       "}}\n",
       "\n",
       "// Listen for the clearing of the current output cell\n",
       "var outputEl = gd.closest('.output');\n",
       "if (outputEl) {{\n",
       "    x.observe(outputEl, {childList: true});\n",
       "}}\n",
       "\n",
       "                        })                };                });            </script>        </div>"
      ]
     },
     "metadata": {},
     "output_type": "display_data"
    }
   ],
   "source": [
    "data = [go.Box(x=ab1,boxpoints='all',boxmean=True,pointpos=0),\n",
    "       go.Box(x=ab2,boxpoints='all',pointpos=0)]\n",
    "\n",
    "layout = go.Layout(title='2 Random Abalone Ring samples')\n",
    "\n",
    "fig = go.Figure(data=data,layout=layout)\n",
    "pyo.iplot(fig)"
   ]
  },
  {
   "cell_type": "code",
   "execution_count": 48,
   "id": "7e72ed44",
   "metadata": {},
   "outputs": [
    {
     "name": "stdout",
     "output_type": "stream",
     "text": [
      "Help on class Box in module plotly.graph_objs._box:\n",
      "\n",
      "class Box(plotly.basedatatypes.BaseTraceType)\n",
      " |  Box(arg=None, alignmentgroup=None, boxmean=None, boxpoints=None, customdata=None, customdatasrc=None, dx=None, dy=None, fillcolor=None, hoverinfo=None, hoverinfosrc=None, hoverlabel=None, hoveron=None, hovertemplate=None, hovertemplatesrc=None, hovertext=None, hovertextsrc=None, ids=None, idssrc=None, jitter=None, legendgroup=None, legendgrouptitle=None, legendrank=None, line=None, lowerfence=None, lowerfencesrc=None, marker=None, mean=None, meansrc=None, median=None, mediansrc=None, meta=None, metasrc=None, name=None, notched=None, notchspan=None, notchspansrc=None, notchwidth=None, offsetgroup=None, opacity=None, orientation=None, pointpos=None, q1=None, q1src=None, q3=None, q3src=None, quartilemethod=None, sd=None, sdsrc=None, selected=None, selectedpoints=None, showlegend=None, stream=None, text=None, textsrc=None, uid=None, uirevision=None, unselected=None, upperfence=None, upperfencesrc=None, visible=None, whiskerwidth=None, width=None, x=None, x0=None, xaxis=None, xcalendar=None, xhoverformat=None, xperiod=None, xperiod0=None, xperiodalignment=None, xsrc=None, y=None, y0=None, yaxis=None, ycalendar=None, yhoverformat=None, yperiod=None, yperiod0=None, yperiodalignment=None, ysrc=None, **kwargs)\n",
      " |  \n",
      " |  Method resolution order:\n",
      " |      Box\n",
      " |      plotly.basedatatypes.BaseTraceType\n",
      " |      plotly.basedatatypes.BaseTraceHierarchyType\n",
      " |      plotly.basedatatypes.BasePlotlyType\n",
      " |      builtins.object\n",
      " |  \n",
      " |  Methods defined here:\n",
      " |  \n",
      " |  __init__(self, arg=None, alignmentgroup=None, boxmean=None, boxpoints=None, customdata=None, customdatasrc=None, dx=None, dy=None, fillcolor=None, hoverinfo=None, hoverinfosrc=None, hoverlabel=None, hoveron=None, hovertemplate=None, hovertemplatesrc=None, hovertext=None, hovertextsrc=None, ids=None, idssrc=None, jitter=None, legendgroup=None, legendgrouptitle=None, legendrank=None, line=None, lowerfence=None, lowerfencesrc=None, marker=None, mean=None, meansrc=None, median=None, mediansrc=None, meta=None, metasrc=None, name=None, notched=None, notchspan=None, notchspansrc=None, notchwidth=None, offsetgroup=None, opacity=None, orientation=None, pointpos=None, q1=None, q1src=None, q3=None, q3src=None, quartilemethod=None, sd=None, sdsrc=None, selected=None, selectedpoints=None, showlegend=None, stream=None, text=None, textsrc=None, uid=None, uirevision=None, unselected=None, upperfence=None, upperfencesrc=None, visible=None, whiskerwidth=None, width=None, x=None, x0=None, xaxis=None, xcalendar=None, xhoverformat=None, xperiod=None, xperiod0=None, xperiodalignment=None, xsrc=None, y=None, y0=None, yaxis=None, ycalendar=None, yhoverformat=None, yperiod=None, yperiod0=None, yperiodalignment=None, ysrc=None, **kwargs)\n",
      " |      Construct a new Box object\n",
      " |      \n",
      " |      Each box spans from quartile 1 (Q1) to quartile 3 (Q3). The\n",
      " |      second quartile (Q2, i.e. the median) is marked by a line\n",
      " |      inside the box. The fences grow outward from the boxes' edges,\n",
      " |      by default they span +/- 1.5 times the interquartile range\n",
      " |      (IQR: Q3-Q1), The sample mean and standard deviation as well as\n",
      " |      notches and the sample, outlier and suspected outliers points\n",
      " |      can be optionally added to the box plot. The values and\n",
      " |      positions corresponding to each boxes can be input using two\n",
      " |      signatures. The first signature expects users to supply the\n",
      " |      sample values in the `y` data array for vertical boxes (`x` for\n",
      " |      horizontal boxes). By supplying an `x` (`y`) array, one box per\n",
      " |      distinct `x` (`y`) value is drawn If no `x` (`y`) list is\n",
      " |      provided, a single box is drawn. In this case, the box is\n",
      " |      positioned with the trace `name` or with `x0` (`y0`) if\n",
      " |      provided. The second signature expects users to supply the\n",
      " |      boxes corresponding Q1, median and Q3 statistics in the `q1`,\n",
      " |      `median` and `q3` data arrays respectively. Other box features\n",
      " |      relying on statistics namely `lowerfence`, `upperfence`,\n",
      " |      `notchspan` can be set directly by the users. To have plotly\n",
      " |      compute them or to show sample points besides the boxes, users\n",
      " |      can set the `y` data array for vertical boxes (`x` for\n",
      " |      horizontal boxes) to a 2D array with the outer length\n",
      " |      corresponding to the number of boxes in the traces and the\n",
      " |      inner length corresponding the sample size.\n",
      " |      \n",
      " |      Parameters\n",
      " |      ----------\n",
      " |      arg\n",
      " |          dict of properties compatible with this constructor or\n",
      " |          an instance of :class:`plotly.graph_objs.Box`\n",
      " |      alignmentgroup\n",
      " |          Set several traces linked to the same position axis or\n",
      " |          matching axes to the same alignmentgroup. This controls\n",
      " |          whether bars compute their positional range dependently\n",
      " |          or independently.\n",
      " |      boxmean\n",
      " |          If True, the mean of the box(es)' underlying\n",
      " |          distribution is drawn as a dashed line inside the\n",
      " |          box(es). If \"sd\" the standard deviation is also drawn.\n",
      " |          Defaults to True when `mean` is set. Defaults to \"sd\"\n",
      " |          when `sd` is set Otherwise defaults to False.\n",
      " |      boxpoints\n",
      " |          If \"outliers\", only the sample points lying outside the\n",
      " |          whiskers are shown If \"suspectedoutliers\", the outlier\n",
      " |          points are shown and points either less than 4*Q1-3*Q3\n",
      " |          or greater than 4*Q3-3*Q1 are highlighted (see\n",
      " |          `outliercolor`) If \"all\", all sample points are shown\n",
      " |          If False, only the box(es) are shown with no sample\n",
      " |          points Defaults to \"suspectedoutliers\" when\n",
      " |          `marker.outliercolor` or `marker.line.outliercolor` is\n",
      " |          set. Defaults to \"all\" under the q1/median/q3\n",
      " |          signature. Otherwise defaults to \"outliers\".\n",
      " |      customdata\n",
      " |          Assigns extra data each datum. This may be useful when\n",
      " |          listening to hover, click and selection events. Note\n",
      " |          that, \"scatter\" traces also appends customdata items in\n",
      " |          the markers DOM elements\n",
      " |      customdatasrc\n",
      " |          Sets the source reference on Chart Studio Cloud for\n",
      " |          `customdata`.\n",
      " |      dx\n",
      " |          Sets the x coordinate step for multi-box traces set\n",
      " |          using q1/median/q3.\n",
      " |      dy\n",
      " |          Sets the y coordinate step for multi-box traces set\n",
      " |          using q1/median/q3.\n",
      " |      fillcolor\n",
      " |          Sets the fill color. Defaults to a half-transparent\n",
      " |          variant of the line color, marker color, or marker line\n",
      " |          color, whichever is available.\n",
      " |      hoverinfo\n",
      " |          Determines which trace information appear on hover. If\n",
      " |          `none` or `skip` are set, no information is displayed\n",
      " |          upon hovering. But, if `none` is set, click and hover\n",
      " |          events are still fired.\n",
      " |      hoverinfosrc\n",
      " |          Sets the source reference on Chart Studio Cloud for\n",
      " |          `hoverinfo`.\n",
      " |      hoverlabel\n",
      " |          :class:`plotly.graph_objects.box.Hoverlabel` instance\n",
      " |          or dict with compatible properties\n",
      " |      hoveron\n",
      " |          Do the hover effects highlight individual boxes  or\n",
      " |          sample points or both?\n",
      " |      hovertemplate\n",
      " |          Template string used for rendering the information that\n",
      " |          appear on hover box. Note that this will override\n",
      " |          `hoverinfo`. Variables are inserted using %{variable},\n",
      " |          for example \"y: %{y}\" as well as %{xother}, {%_xother},\n",
      " |          {%_xother_}, {%xother_}. When showing info for several\n",
      " |          points, \"xother\" will be added to those with different\n",
      " |          x positions from the first point. An underscore before\n",
      " |          or after \"(x|y)other\" will add a space on that side,\n",
      " |          only when this field is shown. Numbers are formatted\n",
      " |          using d3-format's syntax %{variable:d3-format}, for\n",
      " |          example \"Price: %{y:$.2f}\".\n",
      " |          https://github.com/d3/d3-format/tree/v1.4.5#d3-format\n",
      " |          for details on the formatting syntax. Dates are\n",
      " |          formatted using d3-time-format's syntax\n",
      " |          %{variable|d3-time-format}, for example \"Day:\n",
      " |          %{2019-01-01|%A}\". https://github.com/d3/d3-time-\n",
      " |          format/tree/v2.2.3#locale_format for details on the\n",
      " |          date formatting syntax. The variables available in\n",
      " |          `hovertemplate` are the ones emitted as event data\n",
      " |          described at this link\n",
      " |          https://plotly.com/javascript/plotlyjs-events/#event-\n",
      " |          data. Additionally, every attributes that can be\n",
      " |          specified per-point (the ones that are `arrayOk: true`)\n",
      " |          are available.  Anything contained in tag `<extra>` is\n",
      " |          displayed in the secondary box, for example\n",
      " |          \"<extra>{fullData.name}</extra>\". To hide the secondary\n",
      " |          box completely, use an empty tag `<extra></extra>`.\n",
      " |      hovertemplatesrc\n",
      " |          Sets the source reference on Chart Studio Cloud for\n",
      " |          `hovertemplate`.\n",
      " |      hovertext\n",
      " |          Same as `text`.\n",
      " |      hovertextsrc\n",
      " |          Sets the source reference on Chart Studio Cloud for\n",
      " |          `hovertext`.\n",
      " |      ids\n",
      " |          Assigns id labels to each datum. These ids for object\n",
      " |          constancy of data points during animation. Should be an\n",
      " |          array of strings, not numbers or any other type.\n",
      " |      idssrc\n",
      " |          Sets the source reference on Chart Studio Cloud for\n",
      " |          `ids`.\n",
      " |      jitter\n",
      " |          Sets the amount of jitter in the sample points drawn.\n",
      " |          If 0, the sample points align along the distribution\n",
      " |          axis. If 1, the sample points are drawn in a random\n",
      " |          jitter of width equal to the width of the box(es).\n",
      " |      legendgroup\n",
      " |          Sets the legend group for this trace. Traces part of\n",
      " |          the same legend group hide/show at the same time when\n",
      " |          toggling legend items.\n",
      " |      legendgrouptitle\n",
      " |          :class:`plotly.graph_objects.box.Legendgrouptitle`\n",
      " |          instance or dict with compatible properties\n",
      " |      legendrank\n",
      " |          Sets the legend rank for this trace. Items and groups\n",
      " |          with smaller ranks are presented on top/left side while\n",
      " |          with `*reversed* `legend.traceorder` they are on\n",
      " |          bottom/right side. The default legendrank is 1000, so\n",
      " |          that you can use ranks less than 1000 to place certain\n",
      " |          items before all unranked items, and ranks greater than\n",
      " |          1000 to go after all unranked items.\n",
      " |      line\n",
      " |          :class:`plotly.graph_objects.box.Line` instance or dict\n",
      " |          with compatible properties\n",
      " |      lowerfence\n",
      " |          Sets the lower fence values. There should be as many\n",
      " |          items as the number of boxes desired. This attribute\n",
      " |          has effect only under the q1/median/q3 signature. If\n",
      " |          `lowerfence` is not provided but a sample (in `y` or\n",
      " |          `x`) is set, we compute the lower as the last sample\n",
      " |          point below 1.5 times the IQR.\n",
      " |      lowerfencesrc\n",
      " |          Sets the source reference on Chart Studio Cloud for\n",
      " |          `lowerfence`.\n",
      " |      marker\n",
      " |          :class:`plotly.graph_objects.box.Marker` instance or\n",
      " |          dict with compatible properties\n",
      " |      mean\n",
      " |          Sets the mean values. There should be as many items as\n",
      " |          the number of boxes desired. This attribute has effect\n",
      " |          only under the q1/median/q3 signature. If `mean` is not\n",
      " |          provided but a sample (in `y` or `x`) is set, we\n",
      " |          compute the mean for each box using the sample values.\n",
      " |      meansrc\n",
      " |          Sets the source reference on Chart Studio Cloud for\n",
      " |          `mean`.\n",
      " |      median\n",
      " |          Sets the median values. There should be as many items\n",
      " |          as the number of boxes desired.\n",
      " |      mediansrc\n",
      " |          Sets the source reference on Chart Studio Cloud for\n",
      " |          `median`.\n",
      " |      meta\n",
      " |          Assigns extra meta information associated with this\n",
      " |          trace that can be used in various text attributes.\n",
      " |          Attributes such as trace `name`, graph, axis and\n",
      " |          colorbar `title.text`, annotation `text`\n",
      " |          `rangeselector`, `updatemenues` and `sliders` `label`\n",
      " |          text all support `meta`. To access the trace `meta`\n",
      " |          values in an attribute in the same trace, simply use\n",
      " |          `%{meta[i]}` where `i` is the index or key of the\n",
      " |          `meta` item in question. To access trace `meta` in\n",
      " |          layout attributes, use `%{data[n[.meta[i]}` where `i`\n",
      " |          is the index or key of the `meta` and `n` is the trace\n",
      " |          index.\n",
      " |      metasrc\n",
      " |          Sets the source reference on Chart Studio Cloud for\n",
      " |          `meta`.\n",
      " |      name\n",
      " |          Sets the trace name. The trace name appear as the\n",
      " |          legend item and on hover. For box traces, the name will\n",
      " |          also be used for the position coordinate, if `x` and\n",
      " |          `x0` (`y` and `y0` if horizontal) are missing and the\n",
      " |          position axis is categorical\n",
      " |      notched\n",
      " |          Determines whether or not notches are drawn. Notches\n",
      " |          displays a confidence interval around the median. We\n",
      " |          compute the confidence interval as median +/- 1.57 *\n",
      " |          IQR / sqrt(N), where IQR is the interquartile range and\n",
      " |          N is the sample size. If two boxes' notches do not\n",
      " |          overlap there is 95% confidence their medians differ.\n",
      " |          See https://sites.google.com/site/davidsstatistics/home\n",
      " |          /notched-box-plots for more info. Defaults to False\n",
      " |          unless `notchwidth` or `notchspan` is set.\n",
      " |      notchspan\n",
      " |          Sets the notch span from the boxes' `median` values.\n",
      " |          There should be as many items as the number of boxes\n",
      " |          desired. This attribute has effect only under the\n",
      " |          q1/median/q3 signature. If `notchspan` is not provided\n",
      " |          but a sample (in `y` or `x`) is set, we compute it as\n",
      " |          1.57 * IQR / sqrt(N), where N is the sample size.\n",
      " |      notchspansrc\n",
      " |          Sets the source reference on Chart Studio Cloud for\n",
      " |          `notchspan`.\n",
      " |      notchwidth\n",
      " |          Sets the width of the notches relative to the box'\n",
      " |          width. For example, with 0, the notches are as wide as\n",
      " |          the box(es).\n",
      " |      offsetgroup\n",
      " |          Set several traces linked to the same position axis or\n",
      " |          matching axes to the same offsetgroup where bars of the\n",
      " |          same position coordinate will line up.\n",
      " |      opacity\n",
      " |          Sets the opacity of the trace.\n",
      " |      orientation\n",
      " |          Sets the orientation of the box(es). If \"v\" (\"h\"), the\n",
      " |          distribution is visualized along the vertical\n",
      " |          (horizontal).\n",
      " |      pointpos\n",
      " |          Sets the position of the sample points in relation to\n",
      " |          the box(es). If 0, the sample points are places over\n",
      " |          the center of the box(es). Positive (negative) values\n",
      " |          correspond to positions to the right (left) for\n",
      " |          vertical boxes and above (below) for horizontal boxes\n",
      " |      q1\n",
      " |          Sets the Quartile 1 values. There should be as many\n",
      " |          items as the number of boxes desired.\n",
      " |      q1src\n",
      " |          Sets the source reference on Chart Studio Cloud for\n",
      " |          `q1`.\n",
      " |      q3\n",
      " |          Sets the Quartile 3 values. There should be as many\n",
      " |          items as the number of boxes desired.\n",
      " |      q3src\n",
      " |          Sets the source reference on Chart Studio Cloud for\n",
      " |          `q3`.\n",
      " |      quartilemethod\n",
      " |          Sets the method used to compute the sample's Q1 and Q3\n",
      " |          quartiles. The \"linear\" method uses the 25th percentile\n",
      " |          for Q1 and 75th percentile for Q3 as computed using\n",
      " |          method #10 (listed on http://www.amstat.org/publication\n",
      " |          s/jse/v14n3/langford.html). The \"exclusive\" method uses\n",
      " |          the median to divide the ordered dataset into two\n",
      " |          halves if the sample is odd, it does not include the\n",
      " |          median in either half - Q1 is then the median of the\n",
      " |          lower half and Q3 the median of the upper half. The\n",
      " |          \"inclusive\" method also uses the median to divide the\n",
      " |          ordered dataset into two halves but if the sample is\n",
      " |          odd, it includes the median in both halves - Q1 is then\n",
      " |          the median of the lower half and Q3 the median of the\n",
      " |          upper half.\n",
      " |      sd\n",
      " |          Sets the standard deviation values. There should be as\n",
      " |          many items as the number of boxes desired. This\n",
      " |          attribute has effect only under the q1/median/q3\n",
      " |          signature. If `sd` is not provided but a sample (in `y`\n",
      " |          or `x`) is set, we compute the standard deviation for\n",
      " |          each box using the sample values.\n",
      " |      sdsrc\n",
      " |          Sets the source reference on Chart Studio Cloud for\n",
      " |          `sd`.\n",
      " |      selected\n",
      " |          :class:`plotly.graph_objects.box.Selected` instance or\n",
      " |          dict with compatible properties\n",
      " |      selectedpoints\n",
      " |          Array containing integer indices of selected points.\n",
      " |          Has an effect only for traces that support selections.\n",
      " |          Note that an empty array means an empty selection where\n",
      " |          the `unselected` are turned on for all points, whereas,\n",
      " |          any other non-array values means no selection all where\n",
      " |          the `selected` and `unselected` styles have no effect.\n",
      " |      showlegend\n",
      " |          Determines whether or not an item corresponding to this\n",
      " |          trace is shown in the legend.\n",
      " |      stream\n",
      " |          :class:`plotly.graph_objects.box.Stream` instance or\n",
      " |          dict with compatible properties\n",
      " |      text\n",
      " |          Sets the text elements associated with each sample\n",
      " |          value. If a single string, the same string appears over\n",
      " |          all the data points. If an array of string, the items\n",
      " |          are mapped in order to the this trace's (x,y)\n",
      " |          coordinates. To be seen, trace `hoverinfo` must contain\n",
      " |          a \"text\" flag.\n",
      " |      textsrc\n",
      " |          Sets the source reference on Chart Studio Cloud for\n",
      " |          `text`.\n",
      " |      uid\n",
      " |          Assign an id to this trace, Use this to provide object\n",
      " |          constancy between traces during animations and\n",
      " |          transitions.\n",
      " |      uirevision\n",
      " |          Controls persistence of some user-driven changes to the\n",
      " |          trace: `constraintrange` in `parcoords` traces, as well\n",
      " |          as some `editable: true` modifications such as `name`\n",
      " |          and `colorbar.title`. Defaults to `layout.uirevision`.\n",
      " |          Note that other user-driven trace attribute changes are\n",
      " |          controlled by `layout` attributes: `trace.visible` is\n",
      " |          controlled by `layout.legend.uirevision`,\n",
      " |          `selectedpoints` is controlled by\n",
      " |          `layout.selectionrevision`, and `colorbar.(x|y)`\n",
      " |          (accessible with `config: {editable: true}`) is\n",
      " |          controlled by `layout.editrevision`. Trace changes are\n",
      " |          tracked by `uid`, which only falls back on trace index\n",
      " |          if no `uid` is provided. So if your app can add/remove\n",
      " |          traces before the end of the `data` array, such that\n",
      " |          the same trace has a different index, you can still\n",
      " |          preserve user-driven changes if you give each trace a\n",
      " |          `uid` that stays with it as it moves.\n",
      " |      unselected\n",
      " |          :class:`plotly.graph_objects.box.Unselected` instance\n",
      " |          or dict with compatible properties\n",
      " |      upperfence\n",
      " |          Sets the upper fence values. There should be as many\n",
      " |          items as the number of boxes desired. This attribute\n",
      " |          has effect only under the q1/median/q3 signature. If\n",
      " |          `upperfence` is not provided but a sample (in `y` or\n",
      " |          `x`) is set, we compute the lower as the last sample\n",
      " |          point above 1.5 times the IQR.\n",
      " |      upperfencesrc\n",
      " |          Sets the source reference on Chart Studio Cloud for\n",
      " |          `upperfence`.\n",
      " |      visible\n",
      " |          Determines whether or not this trace is visible. If\n",
      " |          \"legendonly\", the trace is not drawn, but can appear as\n",
      " |          a legend item (provided that the legend itself is\n",
      " |          visible).\n",
      " |      whiskerwidth\n",
      " |          Sets the width of the whiskers relative to the box'\n",
      " |          width. For example, with 1, the whiskers are as wide as\n",
      " |          the box(es).\n",
      " |      width\n",
      " |          Sets the width of the box in data coordinate If 0\n",
      " |          (default value) the width is automatically selected\n",
      " |          based on the positions of other box traces in the same\n",
      " |          subplot.\n",
      " |      x\n",
      " |          Sets the x sample data or coordinates. See overview for\n",
      " |          more info.\n",
      " |      x0\n",
      " |          Sets the x coordinate for single-box traces or the\n",
      " |          starting coordinate for multi-box traces set using\n",
      " |          q1/median/q3. See overview for more info.\n",
      " |      xaxis\n",
      " |          Sets a reference between this trace's x coordinates and\n",
      " |          a 2D cartesian x axis. If \"x\" (the default value), the\n",
      " |          x coordinates refer to `layout.xaxis`. If \"x2\", the x\n",
      " |          coordinates refer to `layout.xaxis2`, and so on.\n",
      " |      xcalendar\n",
      " |          Sets the calendar system to use with `x` date data.\n",
      " |      xhoverformat\n",
      " |          Sets the hover text formatting rulefor `x`  using d3\n",
      " |          formatting mini-languages which are very similar to\n",
      " |          those in Python. For numbers, see:\n",
      " |          https://github.com/d3/d3-format/tree/v1.4.5#d3-format.\n",
      " |          And for dates see: https://github.com/d3/d3-time-\n",
      " |          format/tree/v2.2.3#locale_format. We add two items to\n",
      " |          d3's date formatter: \"%h\" for half of the year as a\n",
      " |          decimal number as well as \"%{n}f\" for fractional\n",
      " |          seconds with n digits. For example, *2016-10-13\n",
      " |          09:15:23.456* with tickformat \"%H~%M~%S.%2f\" would\n",
      " |          display *09~15~23.46*By default the values are\n",
      " |          formatted using `xaxis.hoverformat`.\n",
      " |      xperiod\n",
      " |          Only relevant when the axis `type` is \"date\". Sets the\n",
      " |          period positioning in milliseconds or \"M<n>\" on the x\n",
      " |          axis. Special values in the form of \"M<n>\" could be\n",
      " |          used to declare the number of months. In this case `n`\n",
      " |          must be a positive integer.\n",
      " |      xperiod0\n",
      " |          Only relevant when the axis `type` is \"date\". Sets the\n",
      " |          base for period positioning in milliseconds or date\n",
      " |          string on the x0 axis. When `x0period` is round number\n",
      " |          of weeks, the `x0period0` by default would be on a\n",
      " |          Sunday i.e. 2000-01-02, otherwise it would be at\n",
      " |          2000-01-01.\n",
      " |      xperiodalignment\n",
      " |          Only relevant when the axis `type` is \"date\". Sets the\n",
      " |          alignment of data points on the x axis.\n",
      " |      xsrc\n",
      " |          Sets the source reference on Chart Studio Cloud for\n",
      " |          `x`.\n",
      " |      y\n",
      " |          Sets the y sample data or coordinates. See overview for\n",
      " |          more info.\n",
      " |      y0\n",
      " |          Sets the y coordinate for single-box traces or the\n",
      " |          starting coordinate for multi-box traces set using\n",
      " |          q1/median/q3. See overview for more info.\n",
      " |      yaxis\n",
      " |          Sets a reference between this trace's y coordinates and\n",
      " |          a 2D cartesian y axis. If \"y\" (the default value), the\n",
      " |          y coordinates refer to `layout.yaxis`. If \"y2\", the y\n",
      " |          coordinates refer to `layout.yaxis2`, and so on.\n",
      " |      ycalendar\n",
      " |          Sets the calendar system to use with `y` date data.\n",
      " |      yhoverformat\n",
      " |          Sets the hover text formatting rulefor `y`  using d3\n",
      " |          formatting mini-languages which are very similar to\n",
      " |          those in Python. For numbers, see:\n",
      " |          https://github.com/d3/d3-format/tree/v1.4.5#d3-format.\n",
      " |          And for dates see: https://github.com/d3/d3-time-\n",
      " |          format/tree/v2.2.3#locale_format. We add two items to\n",
      " |          d3's date formatter: \"%h\" for half of the year as a\n",
      " |          decimal number as well as \"%{n}f\" for fractional\n",
      " |          seconds with n digits. For example, *2016-10-13\n",
      " |          09:15:23.456* with tickformat \"%H~%M~%S.%2f\" would\n",
      " |          display *09~15~23.46*By default the values are\n",
      " |          formatted using `yaxis.hoverformat`.\n",
      " |      yperiod\n",
      " |          Only relevant when the axis `type` is \"date\". Sets the\n",
      " |          period positioning in milliseconds or \"M<n>\" on the y\n",
      " |          axis. Special values in the form of \"M<n>\" could be\n",
      " |          used to declare the number of months. In this case `n`\n",
      " |          must be a positive integer.\n",
      " |      yperiod0\n",
      " |          Only relevant when the axis `type` is \"date\". Sets the\n",
      " |          base for period positioning in milliseconds or date\n",
      " |          string on the y0 axis. When `y0period` is round number\n",
      " |          of weeks, the `y0period0` by default would be on a\n",
      " |          Sunday i.e. 2000-01-02, otherwise it would be at\n",
      " |          2000-01-01.\n",
      " |      yperiodalignment\n",
      " |          Only relevant when the axis `type` is \"date\". Sets the\n",
      " |          alignment of data points on the y axis.\n",
      " |      ysrc\n",
      " |          Sets the source reference on Chart Studio Cloud for\n",
      " |          `y`.\n",
      " |      \n",
      " |      Returns\n",
      " |      -------\n",
      " |      Box\n",
      " |  \n",
      " |  ----------------------------------------------------------------------\n",
      " |  Readonly properties defined here:\n",
      " |  \n",
      " |  type\n",
      " |  \n",
      " |  ----------------------------------------------------------------------\n",
      " |  Data descriptors defined here:\n",
      " |  \n",
      " |  alignmentgroup\n",
      " |      Set several traces linked to the same position axis or matching\n",
      " |      axes to the same alignmentgroup. This controls whether bars\n",
      " |      compute their positional range dependently or independently.\n",
      " |      \n",
      " |      The 'alignmentgroup' property is a string and must be specified as:\n",
      " |        - A string\n",
      " |        - A number that will be converted to a string\n",
      " |      \n",
      " |      Returns\n",
      " |      -------\n",
      " |      str\n",
      " |  \n",
      " |  boxmean\n",
      " |      If True, the mean of the box(es)' underlying distribution is\n",
      " |      drawn as a dashed line inside the box(es). If \"sd\" the standard\n",
      " |      deviation is also drawn. Defaults to True when `mean` is set.\n",
      " |      Defaults to \"sd\" when `sd` is set Otherwise defaults to False.\n",
      " |      \n",
      " |      The 'boxmean' property is an enumeration that may be specified as:\n",
      " |        - One of the following enumeration values:\n",
      " |              [True, 'sd', False]\n",
      " |      \n",
      " |      Returns\n",
      " |      -------\n",
      " |      Any\n",
      " |  \n",
      " |  boxpoints\n",
      " |      If \"outliers\", only the sample points lying outside the\n",
      " |      whiskers are shown If \"suspectedoutliers\", the outlier points\n",
      " |      are shown and points either less than 4*Q1-3*Q3 or greater than\n",
      " |      4*Q3-3*Q1 are highlighted (see `outliercolor`) If \"all\", all\n",
      " |      sample points are shown If False, only the box(es) are shown\n",
      " |      with no sample points Defaults to \"suspectedoutliers\" when\n",
      " |      `marker.outliercolor` or `marker.line.outliercolor` is set.\n",
      " |      Defaults to \"all\" under the q1/median/q3 signature. Otherwise\n",
      " |      defaults to \"outliers\".\n",
      " |      \n",
      " |      The 'boxpoints' property is an enumeration that may be specified as:\n",
      " |        - One of the following enumeration values:\n",
      " |              ['all', 'outliers', 'suspectedoutliers', False]\n",
      " |      \n",
      " |      Returns\n",
      " |      -------\n",
      " |      Any\n",
      " |  \n",
      " |  customdata\n",
      " |      Assigns extra data each datum. This may be useful when\n",
      " |      listening to hover, click and selection events. Note that,\n",
      " |      \"scatter\" traces also appends customdata items in the markers\n",
      " |      DOM elements\n",
      " |      \n",
      " |      The 'customdata' property is an array that may be specified as a tuple,\n",
      " |      list, numpy array, or pandas Series\n",
      " |      \n",
      " |      Returns\n",
      " |      -------\n",
      " |      numpy.ndarray\n",
      " |  \n",
      " |  customdatasrc\n",
      " |      Sets the source reference on Chart Studio Cloud for\n",
      " |      `customdata`.\n",
      " |      \n",
      " |      The 'customdatasrc' property must be specified as a string or\n",
      " |      as a plotly.grid_objs.Column object\n",
      " |      \n",
      " |      Returns\n",
      " |      -------\n",
      " |      str\n",
      " |  \n",
      " |  dx\n",
      " |      Sets the x coordinate step for multi-box traces set using\n",
      " |      q1/median/q3.\n",
      " |      \n",
      " |      The 'dx' property is a number and may be specified as:\n",
      " |        - An int or float\n",
      " |      \n",
      " |      Returns\n",
      " |      -------\n",
      " |      int|float\n",
      " |  \n",
      " |  dy\n",
      " |      Sets the y coordinate step for multi-box traces set using\n",
      " |      q1/median/q3.\n",
      " |      \n",
      " |      The 'dy' property is a number and may be specified as:\n",
      " |        - An int or float\n",
      " |      \n",
      " |      Returns\n",
      " |      -------\n",
      " |      int|float\n",
      " |  \n",
      " |  fillcolor\n",
      " |      Sets the fill color. Defaults to a half-transparent variant of\n",
      " |      the line color, marker color, or marker line color, whichever\n",
      " |      is available.\n",
      " |      \n",
      " |      The 'fillcolor' property is a color and may be specified as:\n",
      " |        - A hex string (e.g. '#ff0000')\n",
      " |        - An rgb/rgba string (e.g. 'rgb(255,0,0)')\n",
      " |        - An hsl/hsla string (e.g. 'hsl(0,100%,50%)')\n",
      " |        - An hsv/hsva string (e.g. 'hsv(0,100%,100%)')\n",
      " |        - A named CSS color:\n",
      " |              aliceblue, antiquewhite, aqua, aquamarine, azure,\n",
      " |              beige, bisque, black, blanchedalmond, blue,\n",
      " |              blueviolet, brown, burlywood, cadetblue,\n",
      " |              chartreuse, chocolate, coral, cornflowerblue,\n",
      " |              cornsilk, crimson, cyan, darkblue, darkcyan,\n",
      " |              darkgoldenrod, darkgray, darkgrey, darkgreen,\n",
      " |              darkkhaki, darkmagenta, darkolivegreen, darkorange,\n",
      " |              darkorchid, darkred, darksalmon, darkseagreen,\n",
      " |              darkslateblue, darkslategray, darkslategrey,\n",
      " |              darkturquoise, darkviolet, deeppink, deepskyblue,\n",
      " |              dimgray, dimgrey, dodgerblue, firebrick,\n",
      " |              floralwhite, forestgreen, fuchsia, gainsboro,\n",
      " |              ghostwhite, gold, goldenrod, gray, grey, green,\n",
      " |              greenyellow, honeydew, hotpink, indianred, indigo,\n",
      " |              ivory, khaki, lavender, lavenderblush, lawngreen,\n",
      " |              lemonchiffon, lightblue, lightcoral, lightcyan,\n",
      " |              lightgoldenrodyellow, lightgray, lightgrey,\n",
      " |              lightgreen, lightpink, lightsalmon, lightseagreen,\n",
      " |              lightskyblue, lightslategray, lightslategrey,\n",
      " |              lightsteelblue, lightyellow, lime, limegreen,\n",
      " |              linen, magenta, maroon, mediumaquamarine,\n",
      " |              mediumblue, mediumorchid, mediumpurple,\n",
      " |              mediumseagreen, mediumslateblue, mediumspringgreen,\n",
      " |              mediumturquoise, mediumvioletred, midnightblue,\n",
      " |              mintcream, mistyrose, moccasin, navajowhite, navy,\n",
      " |              oldlace, olive, olivedrab, orange, orangered,\n",
      " |              orchid, palegoldenrod, palegreen, paleturquoise,\n",
      " |              palevioletred, papayawhip, peachpuff, peru, pink,\n",
      " |              plum, powderblue, purple, red, rosybrown,\n",
      " |              royalblue, rebeccapurple, saddlebrown, salmon,\n",
      " |              sandybrown, seagreen, seashell, sienna, silver,\n",
      " |              skyblue, slateblue, slategray, slategrey, snow,\n",
      " |              springgreen, steelblue, tan, teal, thistle, tomato,\n",
      " |              turquoise, violet, wheat, white, whitesmoke,\n",
      " |              yellow, yellowgreen\n",
      " |      \n",
      " |      Returns\n",
      " |      -------\n",
      " |      str\n",
      " |  \n",
      " |  hoverinfo\n",
      " |      Determines which trace information appear on hover. If `none`\n",
      " |      or `skip` are set, no information is displayed upon hovering.\n",
      " |      But, if `none` is set, click and hover events are still fired.\n",
      " |      \n",
      " |      The 'hoverinfo' property is a flaglist and may be specified\n",
      " |      as a string containing:\n",
      " |        - Any combination of ['x', 'y', 'z', 'text', 'name'] joined with '+' characters\n",
      " |          (e.g. 'x+y')\n",
      " |          OR exactly one of ['all', 'none', 'skip'] (e.g. 'skip')\n",
      " |        - A list or array of the above\n",
      " |      \n",
      " |      Returns\n",
      " |      -------\n",
      " |      Any|numpy.ndarray\n",
      " |  \n",
      " |  hoverinfosrc\n",
      " |      Sets the source reference on Chart Studio Cloud for\n",
      " |      `hoverinfo`.\n",
      " |      \n",
      " |      The 'hoverinfosrc' property must be specified as a string or\n",
      " |      as a plotly.grid_objs.Column object\n",
      " |      \n",
      " |      Returns\n",
      " |      -------\n",
      " |      str\n",
      " |  \n",
      " |  hoverlabel\n",
      " |      The 'hoverlabel' property is an instance of Hoverlabel\n",
      " |      that may be specified as:\n",
      " |        - An instance of :class:`plotly.graph_objs.box.Hoverlabel`\n",
      " |        - A dict of string/value properties that will be passed\n",
      " |          to the Hoverlabel constructor\n",
      " |      \n",
      " |          Supported dict properties:\n",
      " |      \n",
      " |              align\n",
      " |                  Sets the horizontal alignment of the text\n",
      " |                  content within hover label box. Has an effect\n",
      " |                  only if the hover label text spans more two or\n",
      " |                  more lines\n",
      " |              alignsrc\n",
      " |                  Sets the source reference on Chart Studio Cloud\n",
      " |                  for `align`.\n",
      " |              bgcolor\n",
      " |                  Sets the background color of the hover labels\n",
      " |                  for this trace\n",
      " |              bgcolorsrc\n",
      " |                  Sets the source reference on Chart Studio Cloud\n",
      " |                  for `bgcolor`.\n",
      " |              bordercolor\n",
      " |                  Sets the border color of the hover labels for\n",
      " |                  this trace.\n",
      " |              bordercolorsrc\n",
      " |                  Sets the source reference on Chart Studio Cloud\n",
      " |                  for `bordercolor`.\n",
      " |              font\n",
      " |                  Sets the font used in hover labels.\n",
      " |              namelength\n",
      " |                  Sets the default length (in number of\n",
      " |                  characters) of the trace name in the hover\n",
      " |                  labels for all traces. -1 shows the whole name\n",
      " |                  regardless of length. 0-3 shows the first 0-3\n",
      " |                  characters, and an integer >3 will show the\n",
      " |                  whole name if it is less than that many\n",
      " |                  characters, but if it is longer, will truncate\n",
      " |                  to `namelength - 3` characters and add an\n",
      " |                  ellipsis.\n",
      " |              namelengthsrc\n",
      " |                  Sets the source reference on Chart Studio Cloud\n",
      " |                  for `namelength`.\n",
      " |      \n",
      " |      Returns\n",
      " |      -------\n",
      " |      plotly.graph_objs.box.Hoverlabel\n",
      " |  \n",
      " |  hoveron\n",
      " |      Do the hover effects highlight individual boxes  or sample\n",
      " |      points or both?\n",
      " |      \n",
      " |      The 'hoveron' property is a flaglist and may be specified\n",
      " |      as a string containing:\n",
      " |        - Any combination of ['boxes', 'points'] joined with '+' characters\n",
      " |          (e.g. 'boxes+points')\n",
      " |      \n",
      " |      Returns\n",
      " |      -------\n",
      " |      Any\n",
      " |  \n",
      " |  hovertemplate\n",
      " |      Template string used for rendering the information that appear\n",
      " |      on hover box. Note that this will override `hoverinfo`.\n",
      " |      Variables are inserted using %{variable}, for example \"y: %{y}\"\n",
      " |      as well as %{xother}, {%_xother}, {%_xother_}, {%xother_}. When\n",
      " |      showing info for several points, \"xother\" will be added to\n",
      " |      those with different x positions from the first point. An\n",
      " |      underscore before or after \"(x|y)other\" will add a space on\n",
      " |      that side, only when this field is shown. Numbers are formatted\n",
      " |      using d3-format's syntax %{variable:d3-format}, for example\n",
      " |      \"Price: %{y:$.2f}\".\n",
      " |      https://github.com/d3/d3-format/tree/v1.4.5#d3-format for\n",
      " |      details on the formatting syntax. Dates are formatted using\n",
      " |      d3-time-format's syntax %{variable|d3-time-format}, for example\n",
      " |      \"Day: %{2019-01-01|%A}\". https://github.com/d3/d3-time-\n",
      " |      format/tree/v2.2.3#locale_format for details on the date\n",
      " |      formatting syntax. The variables available in `hovertemplate`\n",
      " |      are the ones emitted as event data described at this link\n",
      " |      https://plotly.com/javascript/plotlyjs-events/#event-data.\n",
      " |      Additionally, every attributes that can be specified per-point\n",
      " |      (the ones that are `arrayOk: true`) are available.  Anything\n",
      " |      contained in tag `<extra>` is displayed in the secondary box,\n",
      " |      for example \"<extra>{fullData.name}</extra>\". To hide the\n",
      " |      secondary box completely, use an empty tag `<extra></extra>`.\n",
      " |      \n",
      " |      The 'hovertemplate' property is a string and must be specified as:\n",
      " |        - A string\n",
      " |        - A number that will be converted to a string\n",
      " |        - A tuple, list, or one-dimensional numpy array of the above\n",
      " |      \n",
      " |      Returns\n",
      " |      -------\n",
      " |      str|numpy.ndarray\n",
      " |  \n",
      " |  hovertemplatesrc\n",
      " |      Sets the source reference on Chart Studio Cloud for\n",
      " |      `hovertemplate`.\n",
      " |      \n",
      " |      The 'hovertemplatesrc' property must be specified as a string or\n",
      " |      as a plotly.grid_objs.Column object\n",
      " |      \n",
      " |      Returns\n",
      " |      -------\n",
      " |      str\n",
      " |  \n",
      " |  hovertext\n",
      " |      Same as `text`.\n",
      " |      \n",
      " |      The 'hovertext' property is a string and must be specified as:\n",
      " |        - A string\n",
      " |        - A number that will be converted to a string\n",
      " |        - A tuple, list, or one-dimensional numpy array of the above\n",
      " |      \n",
      " |      Returns\n",
      " |      -------\n",
      " |      str|numpy.ndarray\n",
      " |  \n",
      " |  hovertextsrc\n",
      " |      Sets the source reference on Chart Studio Cloud for\n",
      " |      `hovertext`.\n",
      " |      \n",
      " |      The 'hovertextsrc' property must be specified as a string or\n",
      " |      as a plotly.grid_objs.Column object\n",
      " |      \n",
      " |      Returns\n",
      " |      -------\n",
      " |      str\n",
      " |  \n",
      " |  ids\n",
      " |      Assigns id labels to each datum. These ids for object constancy\n",
      " |      of data points during animation. Should be an array of strings,\n",
      " |      not numbers or any other type.\n",
      " |      \n",
      " |      The 'ids' property is an array that may be specified as a tuple,\n",
      " |      list, numpy array, or pandas Series\n",
      " |      \n",
      " |      Returns\n",
      " |      -------\n",
      " |      numpy.ndarray\n",
      " |  \n",
      " |  idssrc\n",
      " |      Sets the source reference on Chart Studio Cloud for `ids`.\n",
      " |      \n",
      " |      The 'idssrc' property must be specified as a string or\n",
      " |      as a plotly.grid_objs.Column object\n",
      " |      \n",
      " |      Returns\n",
      " |      -------\n",
      " |      str\n",
      " |  \n",
      " |  jitter\n",
      " |      Sets the amount of jitter in the sample points drawn. If 0, the\n",
      " |      sample points align along the distribution axis. If 1, the\n",
      " |      sample points are drawn in a random jitter of width equal to\n",
      " |      the width of the box(es).\n",
      " |      \n",
      " |      The 'jitter' property is a number and may be specified as:\n",
      " |        - An int or float in the interval [0, 1]\n",
      " |      \n",
      " |      Returns\n",
      " |      -------\n",
      " |      int|float\n",
      " |  \n",
      " |  legendgroup\n",
      " |      Sets the legend group for this trace. Traces part of the same\n",
      " |      legend group hide/show at the same time when toggling legend\n",
      " |      items.\n",
      " |      \n",
      " |      The 'legendgroup' property is a string and must be specified as:\n",
      " |        - A string\n",
      " |        - A number that will be converted to a string\n",
      " |      \n",
      " |      Returns\n",
      " |      -------\n",
      " |      str\n",
      " |  \n",
      " |  legendgrouptitle\n",
      " |      The 'legendgrouptitle' property is an instance of Legendgrouptitle\n",
      " |      that may be specified as:\n",
      " |        - An instance of :class:`plotly.graph_objs.box.Legendgrouptitle`\n",
      " |        - A dict of string/value properties that will be passed\n",
      " |          to the Legendgrouptitle constructor\n",
      " |      \n",
      " |          Supported dict properties:\n",
      " |      \n",
      " |              font\n",
      " |                  Sets this legend group's title font.\n",
      " |              text\n",
      " |                  Sets the title of the legend group.\n",
      " |      \n",
      " |      Returns\n",
      " |      -------\n",
      " |      plotly.graph_objs.box.Legendgrouptitle\n",
      " |  \n",
      " |  legendrank\n",
      " |      Sets the legend rank for this trace. Items and groups with\n",
      " |      smaller ranks are presented on top/left side while with\n",
      " |      `*reversed* `legend.traceorder` they are on bottom/right side.\n",
      " |      The default legendrank is 1000, so that you can use ranks less\n",
      " |      than 1000 to place certain items before all unranked items, and\n",
      " |      ranks greater than 1000 to go after all unranked items.\n",
      " |      \n",
      " |      The 'legendrank' property is a number and may be specified as:\n",
      " |        - An int or float\n",
      " |      \n",
      " |      Returns\n",
      " |      -------\n",
      " |      int|float\n",
      " |  \n",
      " |  line\n",
      " |      The 'line' property is an instance of Line\n",
      " |      that may be specified as:\n",
      " |        - An instance of :class:`plotly.graph_objs.box.Line`\n",
      " |        - A dict of string/value properties that will be passed\n",
      " |          to the Line constructor\n",
      " |      \n",
      " |          Supported dict properties:\n",
      " |      \n",
      " |              color\n",
      " |                  Sets the color of line bounding the box(es).\n",
      " |              width\n",
      " |                  Sets the width (in px) of line bounding the\n",
      " |                  box(es).\n",
      " |      \n",
      " |      Returns\n",
      " |      -------\n",
      " |      plotly.graph_objs.box.Line\n",
      " |  \n",
      " |  lowerfence\n",
      " |      Sets the lower fence values. There should be as many items as\n",
      " |      the number of boxes desired. This attribute has effect only\n",
      " |      under the q1/median/q3 signature. If `lowerfence` is not\n",
      " |      provided but a sample (in `y` or `x`) is set, we compute the\n",
      " |      lower as the last sample point below 1.5 times the IQR.\n",
      " |      \n",
      " |      The 'lowerfence' property is an array that may be specified as a tuple,\n",
      " |      list, numpy array, or pandas Series\n",
      " |      \n",
      " |      Returns\n",
      " |      -------\n",
      " |      numpy.ndarray\n",
      " |  \n",
      " |  lowerfencesrc\n",
      " |      Sets the source reference on Chart Studio Cloud for\n",
      " |      `lowerfence`.\n",
      " |      \n",
      " |      The 'lowerfencesrc' property must be specified as a string or\n",
      " |      as a plotly.grid_objs.Column object\n",
      " |      \n",
      " |      Returns\n",
      " |      -------\n",
      " |      str\n",
      " |  \n",
      " |  marker\n",
      " |      The 'marker' property is an instance of Marker\n",
      " |      that may be specified as:\n",
      " |        - An instance of :class:`plotly.graph_objs.box.Marker`\n",
      " |        - A dict of string/value properties that will be passed\n",
      " |          to the Marker constructor\n",
      " |      \n",
      " |          Supported dict properties:\n",
      " |      \n",
      " |              color\n",
      " |                  Sets the marker color. It accepts either a\n",
      " |                  specific color or an array of numbers that are\n",
      " |                  mapped to the colorscale relative to the max\n",
      " |                  and min values of the array or relative to\n",
      " |                  `marker.cmin` and `marker.cmax` if set.\n",
      " |              line\n",
      " |                  :class:`plotly.graph_objects.box.marker.Line`\n",
      " |                  instance or dict with compatible properties\n",
      " |              opacity\n",
      " |                  Sets the marker opacity.\n",
      " |              outliercolor\n",
      " |                  Sets the color of the outlier sample points.\n",
      " |              size\n",
      " |                  Sets the marker size (in px).\n",
      " |              symbol\n",
      " |                  Sets the marker symbol type. Adding 100 is\n",
      " |                  equivalent to appending \"-open\" to a symbol\n",
      " |                  name. Adding 200 is equivalent to appending\n",
      " |                  \"-dot\" to a symbol name. Adding 300 is\n",
      " |                  equivalent to appending \"-open-dot\" or \"dot-\n",
      " |                  open\" to a symbol name.\n",
      " |      \n",
      " |      Returns\n",
      " |      -------\n",
      " |      plotly.graph_objs.box.Marker\n",
      " |  \n",
      " |  mean\n",
      " |      Sets the mean values. There should be as many items as the\n",
      " |      number of boxes desired. This attribute has effect only under\n",
      " |      the q1/median/q3 signature. If `mean` is not provided but a\n",
      " |      sample (in `y` or `x`) is set, we compute the mean for each box\n",
      " |      using the sample values.\n",
      " |      \n",
      " |      The 'mean' property is an array that may be specified as a tuple,\n",
      " |      list, numpy array, or pandas Series\n",
      " |      \n",
      " |      Returns\n",
      " |      -------\n",
      " |      numpy.ndarray\n",
      " |  \n",
      " |  meansrc\n",
      " |      Sets the source reference on Chart Studio Cloud for `mean`.\n",
      " |      \n",
      " |      The 'meansrc' property must be specified as a string or\n",
      " |      as a plotly.grid_objs.Column object\n",
      " |      \n",
      " |      Returns\n",
      " |      -------\n",
      " |      str\n",
      " |  \n",
      " |  median\n",
      " |      Sets the median values. There should be as many items as the\n",
      " |      number of boxes desired.\n",
      " |      \n",
      " |      The 'median' property is an array that may be specified as a tuple,\n",
      " |      list, numpy array, or pandas Series\n",
      " |      \n",
      " |      Returns\n",
      " |      -------\n",
      " |      numpy.ndarray\n",
      " |  \n",
      " |  mediansrc\n",
      " |      Sets the source reference on Chart Studio Cloud for `median`.\n",
      " |      \n",
      " |      The 'mediansrc' property must be specified as a string or\n",
      " |      as a plotly.grid_objs.Column object\n",
      " |      \n",
      " |      Returns\n",
      " |      -------\n",
      " |      str\n",
      " |  \n",
      " |  meta\n",
      " |      Assigns extra meta information associated with this trace that\n",
      " |      can be used in various text attributes. Attributes such as\n",
      " |      trace `name`, graph, axis and colorbar `title.text`, annotation\n",
      " |      `text` `rangeselector`, `updatemenues` and `sliders` `label`\n",
      " |      text all support `meta`. To access the trace `meta` values in\n",
      " |      an attribute in the same trace, simply use `%{meta[i]}` where\n",
      " |      `i` is the index or key of the `meta` item in question. To\n",
      " |      access trace `meta` in layout attributes, use\n",
      " |      `%{data[n[.meta[i]}` where `i` is the index or key of the\n",
      " |      `meta` and `n` is the trace index.\n",
      " |      \n",
      " |      The 'meta' property accepts values of any type\n",
      " |      \n",
      " |      Returns\n",
      " |      -------\n",
      " |      Any|numpy.ndarray\n",
      " |  \n",
      " |  metasrc\n",
      " |      Sets the source reference on Chart Studio Cloud for `meta`.\n",
      " |      \n",
      " |      The 'metasrc' property must be specified as a string or\n",
      " |      as a plotly.grid_objs.Column object\n",
      " |      \n",
      " |      Returns\n",
      " |      -------\n",
      " |      str\n",
      " |  \n",
      " |  name\n",
      " |      Sets the trace name. The trace name appear as the legend item\n",
      " |      and on hover. For box traces, the name will also be used for\n",
      " |      the position coordinate, if `x` and `x0` (`y` and `y0` if\n",
      " |      horizontal) are missing and the position axis is categorical\n",
      " |      \n",
      " |      The 'name' property is a string and must be specified as:\n",
      " |        - A string\n",
      " |        - A number that will be converted to a string\n",
      " |      \n",
      " |      Returns\n",
      " |      -------\n",
      " |      str\n",
      " |  \n",
      " |  notched\n",
      " |      Determines whether or not notches are drawn. Notches displays a\n",
      " |      confidence interval around the median. We compute the\n",
      " |      confidence interval as median +/- 1.57 * IQR / sqrt(N), where\n",
      " |      IQR is the interquartile range and N is the sample size. If two\n",
      " |      boxes' notches do not overlap there is 95% confidence their\n",
      " |      medians differ. See\n",
      " |      https://sites.google.com/site/davidsstatistics/home/notched-\n",
      " |      box-plots for more info. Defaults to False unless `notchwidth`\n",
      " |      or `notchspan` is set.\n",
      " |      \n",
      " |      The 'notched' property must be specified as a bool\n",
      " |      (either True, or False)\n",
      " |      \n",
      " |      Returns\n",
      " |      -------\n",
      " |      bool\n",
      " |  \n",
      " |  notchspan\n",
      " |      Sets the notch span from the boxes' `median` values. There\n",
      " |      should be as many items as the number of boxes desired. This\n",
      " |      attribute has effect only under the q1/median/q3 signature. If\n",
      " |      `notchspan` is not provided but a sample (in `y` or `x`) is\n",
      " |      set, we compute it as 1.57 * IQR / sqrt(N), where N is the\n",
      " |      sample size.\n",
      " |      \n",
      " |      The 'notchspan' property is an array that may be specified as a tuple,\n",
      " |      list, numpy array, or pandas Series\n",
      " |      \n",
      " |      Returns\n",
      " |      -------\n",
      " |      numpy.ndarray\n",
      " |  \n",
      " |  notchspansrc\n",
      " |      Sets the source reference on Chart Studio Cloud for\n",
      " |      `notchspan`.\n",
      " |      \n",
      " |      The 'notchspansrc' property must be specified as a string or\n",
      " |      as a plotly.grid_objs.Column object\n",
      " |      \n",
      " |      Returns\n",
      " |      -------\n",
      " |      str\n",
      " |  \n",
      " |  notchwidth\n",
      " |      Sets the width of the notches relative to the box' width. For\n",
      " |      example, with 0, the notches are as wide as the box(es).\n",
      " |      \n",
      " |      The 'notchwidth' property is a number and may be specified as:\n",
      " |        - An int or float in the interval [0, 0.5]\n",
      " |      \n",
      " |      Returns\n",
      " |      -------\n",
      " |      int|float\n",
      " |  \n",
      " |  offsetgroup\n",
      " |      Set several traces linked to the same position axis or matching\n",
      " |      axes to the same offsetgroup where bars of the same position\n",
      " |      coordinate will line up.\n",
      " |      \n",
      " |      The 'offsetgroup' property is a string and must be specified as:\n",
      " |        - A string\n",
      " |        - A number that will be converted to a string\n",
      " |      \n",
      " |      Returns\n",
      " |      -------\n",
      " |      str\n",
      " |  \n",
      " |  opacity\n",
      " |      Sets the opacity of the trace.\n",
      " |      \n",
      " |      The 'opacity' property is a number and may be specified as:\n",
      " |        - An int or float in the interval [0, 1]\n",
      " |      \n",
      " |      Returns\n",
      " |      -------\n",
      " |      int|float\n",
      " |  \n",
      " |  orientation\n",
      " |      Sets the orientation of the box(es). If \"v\" (\"h\"), the\n",
      " |      distribution is visualized along the vertical (horizontal).\n",
      " |      \n",
      " |      The 'orientation' property is an enumeration that may be specified as:\n",
      " |        - One of the following enumeration values:\n",
      " |              ['v', 'h']\n",
      " |      \n",
      " |      Returns\n",
      " |      -------\n",
      " |      Any\n",
      " |  \n",
      " |  pointpos\n",
      " |      Sets the position of the sample points in relation to the\n",
      " |      box(es). If 0, the sample points are places over the center of\n",
      " |      the box(es). Positive (negative) values correspond to positions\n",
      " |      to the right (left) for vertical boxes and above (below) for\n",
      " |      horizontal boxes\n",
      " |      \n",
      " |      The 'pointpos' property is a number and may be specified as:\n",
      " |        - An int or float in the interval [-2, 2]\n",
      " |      \n",
      " |      Returns\n",
      " |      -------\n",
      " |      int|float\n",
      " |  \n",
      " |  q1\n",
      " |      Sets the Quartile 1 values. There should be as many items as\n",
      " |      the number of boxes desired.\n",
      " |      \n",
      " |      The 'q1' property is an array that may be specified as a tuple,\n",
      " |      list, numpy array, or pandas Series\n",
      " |      \n",
      " |      Returns\n",
      " |      -------\n",
      " |      numpy.ndarray\n",
      " |  \n",
      " |  q1src\n",
      " |      Sets the source reference on Chart Studio Cloud for `q1`.\n",
      " |      \n",
      " |      The 'q1src' property must be specified as a string or\n",
      " |      as a plotly.grid_objs.Column object\n",
      " |      \n",
      " |      Returns\n",
      " |      -------\n",
      " |      str\n",
      " |  \n",
      " |  q3\n",
      " |      Sets the Quartile 3 values. There should be as many items as\n",
      " |      the number of boxes desired.\n",
      " |      \n",
      " |      The 'q3' property is an array that may be specified as a tuple,\n",
      " |      list, numpy array, or pandas Series\n",
      " |      \n",
      " |      Returns\n",
      " |      -------\n",
      " |      numpy.ndarray\n",
      " |  \n",
      " |  q3src\n",
      " |      Sets the source reference on Chart Studio Cloud for `q3`.\n",
      " |      \n",
      " |      The 'q3src' property must be specified as a string or\n",
      " |      as a plotly.grid_objs.Column object\n",
      " |      \n",
      " |      Returns\n",
      " |      -------\n",
      " |      str\n",
      " |  \n",
      " |  quartilemethod\n",
      " |      Sets the method used to compute the sample's Q1 and Q3\n",
      " |      quartiles. The \"linear\" method uses the 25th percentile for Q1\n",
      " |      and 75th percentile for Q3 as computed using method #10 (listed\n",
      " |      on http://www.amstat.org/publications/jse/v14n3/langford.html).\n",
      " |      The \"exclusive\" method uses the median to divide the ordered\n",
      " |      dataset into two halves if the sample is odd, it does not\n",
      " |      include the median in either half - Q1 is then the median of\n",
      " |      the lower half and Q3 the median of the upper half. The\n",
      " |      \"inclusive\" method also uses the median to divide the ordered\n",
      " |      dataset into two halves but if the sample is odd, it includes\n",
      " |      the median in both halves - Q1 is then the median of the lower\n",
      " |      half and Q3 the median of the upper half.\n",
      " |      \n",
      " |      The 'quartilemethod' property is an enumeration that may be specified as:\n",
      " |        - One of the following enumeration values:\n",
      " |              ['linear', 'exclusive', 'inclusive']\n",
      " |      \n",
      " |      Returns\n",
      " |      -------\n",
      " |      Any\n",
      " |  \n",
      " |  sd\n",
      " |      Sets the standard deviation values. There should be as many\n",
      " |      items as the number of boxes desired. This attribute has effect\n",
      " |      only under the q1/median/q3 signature. If `sd` is not provided\n",
      " |      but a sample (in `y` or `x`) is set, we compute the standard\n",
      " |      deviation for each box using the sample values.\n",
      " |      \n",
      " |      The 'sd' property is an array that may be specified as a tuple,\n",
      " |      list, numpy array, or pandas Series\n",
      " |      \n",
      " |      Returns\n",
      " |      -------\n",
      " |      numpy.ndarray\n",
      " |  \n",
      " |  sdsrc\n",
      " |      Sets the source reference on Chart Studio Cloud for `sd`.\n",
      " |      \n",
      " |      The 'sdsrc' property must be specified as a string or\n",
      " |      as a plotly.grid_objs.Column object\n",
      " |      \n",
      " |      Returns\n",
      " |      -------\n",
      " |      str\n",
      " |  \n",
      " |  selected\n",
      " |      The 'selected' property is an instance of Selected\n",
      " |      that may be specified as:\n",
      " |        - An instance of :class:`plotly.graph_objs.box.Selected`\n",
      " |        - A dict of string/value properties that will be passed\n",
      " |          to the Selected constructor\n",
      " |      \n",
      " |          Supported dict properties:\n",
      " |      \n",
      " |              marker\n",
      " |                  :class:`plotly.graph_objects.box.selected.Marke\n",
      " |                  r` instance or dict with compatible properties\n",
      " |      \n",
      " |      Returns\n",
      " |      -------\n",
      " |      plotly.graph_objs.box.Selected\n",
      " |  \n",
      " |  selectedpoints\n",
      " |      Array containing integer indices of selected points. Has an\n",
      " |      effect only for traces that support selections. Note that an\n",
      " |      empty array means an empty selection where the `unselected` are\n",
      " |      turned on for all points, whereas, any other non-array values\n",
      " |      means no selection all where the `selected` and `unselected`\n",
      " |      styles have no effect.\n",
      " |      \n",
      " |      The 'selectedpoints' property accepts values of any type\n",
      " |      \n",
      " |      Returns\n",
      " |      -------\n",
      " |      Any\n",
      " |  \n",
      " |  showlegend\n",
      " |      Determines whether or not an item corresponding to this trace\n",
      " |      is shown in the legend.\n",
      " |      \n",
      " |      The 'showlegend' property must be specified as a bool\n",
      " |      (either True, or False)\n",
      " |      \n",
      " |      Returns\n",
      " |      -------\n",
      " |      bool\n",
      " |  \n",
      " |  stream\n",
      " |      The 'stream' property is an instance of Stream\n",
      " |      that may be specified as:\n",
      " |        - An instance of :class:`plotly.graph_objs.box.Stream`\n",
      " |        - A dict of string/value properties that will be passed\n",
      " |          to the Stream constructor\n",
      " |      \n",
      " |          Supported dict properties:\n",
      " |      \n",
      " |              maxpoints\n",
      " |                  Sets the maximum number of points to keep on\n",
      " |                  the plots from an incoming stream. If\n",
      " |                  `maxpoints` is set to 50, only the newest 50\n",
      " |                  points will be displayed on the plot.\n",
      " |              token\n",
      " |                  The stream id number links a data trace on a\n",
      " |                  plot with a stream. See https://chart-\n",
      " |                  studio.plotly.com/settings for more details.\n",
      " |      \n",
      " |      Returns\n",
      " |      -------\n",
      " |      plotly.graph_objs.box.Stream\n",
      " |  \n",
      " |  text\n",
      " |      Sets the text elements associated with each sample value. If a\n",
      " |      single string, the same string appears over all the data\n",
      " |      points. If an array of string, the items are mapped in order to\n",
      " |      the this trace's (x,y) coordinates. To be seen, trace\n",
      " |      `hoverinfo` must contain a \"text\" flag.\n",
      " |      \n",
      " |      The 'text' property is a string and must be specified as:\n",
      " |        - A string\n",
      " |        - A number that will be converted to a string\n",
      " |        - A tuple, list, or one-dimensional numpy array of the above\n",
      " |      \n",
      " |      Returns\n",
      " |      -------\n",
      " |      str|numpy.ndarray\n",
      " |  \n",
      " |  textsrc\n",
      " |      Sets the source reference on Chart Studio Cloud for `text`.\n",
      " |      \n",
      " |      The 'textsrc' property must be specified as a string or\n",
      " |      as a plotly.grid_objs.Column object\n",
      " |      \n",
      " |      Returns\n",
      " |      -------\n",
      " |      str\n",
      " |  \n",
      " |  uid\n",
      " |      Assign an id to this trace, Use this to provide object\n",
      " |      constancy between traces during animations and transitions.\n",
      " |      \n",
      " |      The 'uid' property is a string and must be specified as:\n",
      " |        - A string\n",
      " |        - A number that will be converted to a string\n",
      " |      \n",
      " |      Returns\n",
      " |      -------\n",
      " |      str\n",
      " |  \n",
      " |  uirevision\n",
      " |      Controls persistence of some user-driven changes to the trace:\n",
      " |      `constraintrange` in `parcoords` traces, as well as some\n",
      " |      `editable: true` modifications such as `name` and\n",
      " |      `colorbar.title`. Defaults to `layout.uirevision`. Note that\n",
      " |      other user-driven trace attribute changes are controlled by\n",
      " |      `layout` attributes: `trace.visible` is controlled by\n",
      " |      `layout.legend.uirevision`, `selectedpoints` is controlled by\n",
      " |      `layout.selectionrevision`, and `colorbar.(x|y)` (accessible\n",
      " |      with `config: {editable: true}`) is controlled by\n",
      " |      `layout.editrevision`. Trace changes are tracked by `uid`,\n",
      " |      which only falls back on trace index if no `uid` is provided.\n",
      " |      So if your app can add/remove traces before the end of the\n",
      " |      `data` array, such that the same trace has a different index,\n",
      " |      you can still preserve user-driven changes if you give each\n",
      " |      trace a `uid` that stays with it as it moves.\n",
      " |      \n",
      " |      The 'uirevision' property accepts values of any type\n",
      " |      \n",
      " |      Returns\n",
      " |      -------\n",
      " |      Any\n",
      " |  \n",
      " |  unselected\n",
      " |      The 'unselected' property is an instance of Unselected\n",
      " |      that may be specified as:\n",
      " |        - An instance of :class:`plotly.graph_objs.box.Unselected`\n",
      " |        - A dict of string/value properties that will be passed\n",
      " |          to the Unselected constructor\n",
      " |      \n",
      " |          Supported dict properties:\n",
      " |      \n",
      " |              marker\n",
      " |                  :class:`plotly.graph_objects.box.unselected.Mar\n",
      " |                  ker` instance or dict with compatible\n",
      " |                  properties\n",
      " |      \n",
      " |      Returns\n",
      " |      -------\n",
      " |      plotly.graph_objs.box.Unselected\n",
      " |  \n",
      " |  upperfence\n",
      " |      Sets the upper fence values. There should be as many items as\n",
      " |      the number of boxes desired. This attribute has effect only\n",
      " |      under the q1/median/q3 signature. If `upperfence` is not\n",
      " |      provided but a sample (in `y` or `x`) is set, we compute the\n",
      " |      lower as the last sample point above 1.5 times the IQR.\n",
      " |      \n",
      " |      The 'upperfence' property is an array that may be specified as a tuple,\n",
      " |      list, numpy array, or pandas Series\n",
      " |      \n",
      " |      Returns\n",
      " |      -------\n",
      " |      numpy.ndarray\n",
      " |  \n",
      " |  upperfencesrc\n",
      " |      Sets the source reference on Chart Studio Cloud for\n",
      " |      `upperfence`.\n",
      " |      \n",
      " |      The 'upperfencesrc' property must be specified as a string or\n",
      " |      as a plotly.grid_objs.Column object\n",
      " |      \n",
      " |      Returns\n",
      " |      -------\n",
      " |      str\n",
      " |  \n",
      " |  visible\n",
      " |      Determines whether or not this trace is visible. If\n",
      " |      \"legendonly\", the trace is not drawn, but can appear as a\n",
      " |      legend item (provided that the legend itself is visible).\n",
      " |      \n",
      " |      The 'visible' property is an enumeration that may be specified as:\n",
      " |        - One of the following enumeration values:\n",
      " |              [True, False, 'legendonly']\n",
      " |      \n",
      " |      Returns\n",
      " |      -------\n",
      " |      Any\n",
      " |  \n",
      " |  whiskerwidth\n",
      " |      Sets the width of the whiskers relative to the box' width. For\n",
      " |      example, with 1, the whiskers are as wide as the box(es).\n",
      " |      \n",
      " |      The 'whiskerwidth' property is a number and may be specified as:\n",
      " |        - An int or float in the interval [0, 1]\n",
      " |      \n",
      " |      Returns\n",
      " |      -------\n",
      " |      int|float\n",
      " |  \n",
      " |  width\n",
      " |      Sets the width of the box in data coordinate If 0 (default\n",
      " |      value) the width is automatically selected based on the\n",
      " |      positions of other box traces in the same subplot.\n",
      " |      \n",
      " |      The 'width' property is a number and may be specified as:\n",
      " |        - An int or float in the interval [0, inf]\n",
      " |      \n",
      " |      Returns\n",
      " |      -------\n",
      " |      int|float\n",
      " |  \n",
      " |  x\n",
      " |      Sets the x sample data or coordinates. See overview for more\n",
      " |      info.\n",
      " |      \n",
      " |      The 'x' property is an array that may be specified as a tuple,\n",
      " |      list, numpy array, or pandas Series\n",
      " |      \n",
      " |      Returns\n",
      " |      -------\n",
      " |      numpy.ndarray\n",
      " |  \n",
      " |  x0\n",
      " |      Sets the x coordinate for single-box traces or the starting\n",
      " |      coordinate for multi-box traces set using q1/median/q3. See\n",
      " |      overview for more info.\n",
      " |      \n",
      " |      The 'x0' property accepts values of any type\n",
      " |      \n",
      " |      Returns\n",
      " |      -------\n",
      " |      Any\n",
      " |  \n",
      " |  xaxis\n",
      " |      Sets a reference between this trace's x coordinates and a 2D\n",
      " |      cartesian x axis. If \"x\" (the default value), the x coordinates\n",
      " |      refer to `layout.xaxis`. If \"x2\", the x coordinates refer to\n",
      " |      `layout.xaxis2`, and so on.\n",
      " |      \n",
      " |      The 'xaxis' property is an identifier of a particular\n",
      " |      subplot, of type 'x', that may be specified as the string 'x'\n",
      " |      optionally followed by an integer >= 1\n",
      " |      (e.g. 'x', 'x1', 'x2', 'x3', etc.)\n",
      " |      \n",
      " |      Returns\n",
      " |      -------\n",
      " |      str\n",
      " |  \n",
      " |  xcalendar\n",
      " |      Sets the calendar system to use with `x` date data.\n",
      " |      \n",
      " |      The 'xcalendar' property is an enumeration that may be specified as:\n",
      " |        - One of the following enumeration values:\n",
      " |              ['chinese', 'coptic', 'discworld', 'ethiopian',\n",
      " |              'gregorian', 'hebrew', 'islamic', 'jalali', 'julian',\n",
      " |              'mayan', 'nanakshahi', 'nepali', 'persian', 'taiwan',\n",
      " |              'thai', 'ummalqura']\n",
      " |      \n",
      " |      Returns\n",
      " |      -------\n",
      " |      Any\n",
      " |  \n",
      " |  xhoverformat\n",
      " |      Sets the hover text formatting rulefor `x`  using d3 formatting\n",
      " |      mini-languages which are very similar to those in Python. For\n",
      " |      numbers, see:\n",
      " |      https://github.com/d3/d3-format/tree/v1.4.5#d3-format. And for\n",
      " |      dates see: https://github.com/d3/d3-time-\n",
      " |      format/tree/v2.2.3#locale_format. We add two items to d3's date\n",
      " |      formatter: \"%h\" for half of the year as a decimal number as\n",
      " |      well as \"%{n}f\" for fractional seconds with n digits. For\n",
      " |      example, *2016-10-13 09:15:23.456* with tickformat\n",
      " |      \"%H~%M~%S.%2f\" would display *09~15~23.46*By default the values\n",
      " |      are formatted using `xaxis.hoverformat`.\n",
      " |      \n",
      " |      The 'xhoverformat' property is a string and must be specified as:\n",
      " |        - A string\n",
      " |        - A number that will be converted to a string\n",
      " |      \n",
      " |      Returns\n",
      " |      -------\n",
      " |      str\n",
      " |  \n",
      " |  xperiod\n",
      " |      Only relevant when the axis `type` is \"date\". Sets the period\n",
      " |      positioning in milliseconds or \"M<n>\" on the x axis. Special\n",
      " |      values in the form of \"M<n>\" could be used to declare the\n",
      " |      number of months. In this case `n` must be a positive integer.\n",
      " |      \n",
      " |      The 'xperiod' property accepts values of any type\n",
      " |      \n",
      " |      Returns\n",
      " |      -------\n",
      " |      Any\n",
      " |  \n",
      " |  xperiod0\n",
      " |      Only relevant when the axis `type` is \"date\". Sets the base for\n",
      " |      period positioning in milliseconds or date string on the x0\n",
      " |      axis. When `x0period` is round number of weeks, the `x0period0`\n",
      " |      by default would be on a Sunday i.e. 2000-01-02, otherwise it\n",
      " |      would be at 2000-01-01.\n",
      " |      \n",
      " |      The 'xperiod0' property accepts values of any type\n",
      " |      \n",
      " |      Returns\n",
      " |      -------\n",
      " |      Any\n",
      " |  \n",
      " |  xperiodalignment\n",
      " |      Only relevant when the axis `type` is \"date\". Sets the\n",
      " |      alignment of data points on the x axis.\n",
      " |      \n",
      " |      The 'xperiodalignment' property is an enumeration that may be specified as:\n",
      " |        - One of the following enumeration values:\n",
      " |              ['start', 'middle', 'end']\n",
      " |      \n",
      " |      Returns\n",
      " |      -------\n",
      " |      Any\n",
      " |  \n",
      " |  xsrc\n",
      " |      Sets the source reference on Chart Studio Cloud for `x`.\n",
      " |      \n",
      " |      The 'xsrc' property must be specified as a string or\n",
      " |      as a plotly.grid_objs.Column object\n",
      " |      \n",
      " |      Returns\n",
      " |      -------\n",
      " |      str\n",
      " |  \n",
      " |  y\n",
      " |      Sets the y sample data or coordinates. See overview for more\n",
      " |      info.\n",
      " |      \n",
      " |      The 'y' property is an array that may be specified as a tuple,\n",
      " |      list, numpy array, or pandas Series\n",
      " |      \n",
      " |      Returns\n",
      " |      -------\n",
      " |      numpy.ndarray\n",
      " |  \n",
      " |  y0\n",
      " |      Sets the y coordinate for single-box traces or the starting\n",
      " |      coordinate for multi-box traces set using q1/median/q3. See\n",
      " |      overview for more info.\n",
      " |      \n",
      " |      The 'y0' property accepts values of any type\n",
      " |      \n",
      " |      Returns\n",
      " |      -------\n",
      " |      Any\n",
      " |  \n",
      " |  yaxis\n",
      " |      Sets a reference between this trace's y coordinates and a 2D\n",
      " |      cartesian y axis. If \"y\" (the default value), the y coordinates\n",
      " |      refer to `layout.yaxis`. If \"y2\", the y coordinates refer to\n",
      " |      `layout.yaxis2`, and so on.\n",
      " |      \n",
      " |      The 'yaxis' property is an identifier of a particular\n",
      " |      subplot, of type 'y', that may be specified as the string 'y'\n",
      " |      optionally followed by an integer >= 1\n",
      " |      (e.g. 'y', 'y1', 'y2', 'y3', etc.)\n",
      " |      \n",
      " |      Returns\n",
      " |      -------\n",
      " |      str\n",
      " |  \n",
      " |  ycalendar\n",
      " |      Sets the calendar system to use with `y` date data.\n",
      " |      \n",
      " |      The 'ycalendar' property is an enumeration that may be specified as:\n",
      " |        - One of the following enumeration values:\n",
      " |              ['chinese', 'coptic', 'discworld', 'ethiopian',\n",
      " |              'gregorian', 'hebrew', 'islamic', 'jalali', 'julian',\n",
      " |              'mayan', 'nanakshahi', 'nepali', 'persian', 'taiwan',\n",
      " |              'thai', 'ummalqura']\n",
      " |      \n",
      " |      Returns\n",
      " |      -------\n",
      " |      Any\n",
      " |  \n",
      " |  yhoverformat\n",
      " |      Sets the hover text formatting rulefor `y`  using d3 formatting\n",
      " |      mini-languages which are very similar to those in Python. For\n",
      " |      numbers, see:\n",
      " |      https://github.com/d3/d3-format/tree/v1.4.5#d3-format. And for\n",
      " |      dates see: https://github.com/d3/d3-time-\n",
      " |      format/tree/v2.2.3#locale_format. We add two items to d3's date\n",
      " |      formatter: \"%h\" for half of the year as a decimal number as\n",
      " |      well as \"%{n}f\" for fractional seconds with n digits. For\n",
      " |      example, *2016-10-13 09:15:23.456* with tickformat\n",
      " |      \"%H~%M~%S.%2f\" would display *09~15~23.46*By default the values\n",
      " |      are formatted using `yaxis.hoverformat`.\n",
      " |      \n",
      " |      The 'yhoverformat' property is a string and must be specified as:\n",
      " |        - A string\n",
      " |        - A number that will be converted to a string\n",
      " |      \n",
      " |      Returns\n",
      " |      -------\n",
      " |      str\n",
      " |  \n",
      " |  yperiod\n",
      " |      Only relevant when the axis `type` is \"date\". Sets the period\n",
      " |      positioning in milliseconds or \"M<n>\" on the y axis. Special\n",
      " |      values in the form of \"M<n>\" could be used to declare the\n",
      " |      number of months. In this case `n` must be a positive integer.\n",
      " |      \n",
      " |      The 'yperiod' property accepts values of any type\n",
      " |      \n",
      " |      Returns\n",
      " |      -------\n",
      " |      Any\n",
      " |  \n",
      " |  yperiod0\n",
      " |      Only relevant when the axis `type` is \"date\". Sets the base for\n",
      " |      period positioning in milliseconds or date string on the y0\n",
      " |      axis. When `y0period` is round number of weeks, the `y0period0`\n",
      " |      by default would be on a Sunday i.e. 2000-01-02, otherwise it\n",
      " |      would be at 2000-01-01.\n",
      " |      \n",
      " |      The 'yperiod0' property accepts values of any type\n",
      " |      \n",
      " |      Returns\n",
      " |      -------\n",
      " |      Any\n",
      " |  \n",
      " |  yperiodalignment\n",
      " |      Only relevant when the axis `type` is \"date\". Sets the\n",
      " |      alignment of data points on the y axis.\n",
      " |      \n",
      " |      The 'yperiodalignment' property is an enumeration that may be specified as:\n",
      " |        - One of the following enumeration values:\n",
      " |              ['start', 'middle', 'end']\n",
      " |      \n",
      " |      Returns\n",
      " |      -------\n",
      " |      Any\n",
      " |  \n",
      " |  ysrc\n",
      " |      Sets the source reference on Chart Studio Cloud for `y`.\n",
      " |      \n",
      " |      The 'ysrc' property must be specified as a string or\n",
      " |      as a plotly.grid_objs.Column object\n",
      " |      \n",
      " |      Returns\n",
      " |      -------\n",
      " |      str\n",
      " |  \n",
      " |  ----------------------------------------------------------------------\n",
      " |  Methods inherited from plotly.basedatatypes.BaseTraceType:\n",
      " |  \n",
      " |  on_click(self, callback, append=False)\n",
      " |      Register function to be called when the user clicks on one or more\n",
      " |      points in this trace.\n",
      " |      \n",
      " |      Note: Callbacks will only be triggered when the trace belongs to a\n",
      " |      instance of plotly.graph_objs.FigureWidget and it is displayed in an\n",
      " |      ipywidget context. Callbacks will not be triggered on figures\n",
      " |      that are displayed using plot/iplot.\n",
      " |      \n",
      " |      Parameters\n",
      " |      ----------\n",
      " |      callback\n",
      " |          Callable function that accepts 3 arguments\n",
      " |      \n",
      " |          - this trace\n",
      " |          - plotly.callbacks.Points object\n",
      " |          - plotly.callbacks.InputDeviceState object\n",
      " |      \n",
      " |      append : bool\n",
      " |          If False (the default), this callback replaces any previously\n",
      " |          defined on_click callbacks for this trace. If True,\n",
      " |          this callback is appended to the list of any previously defined\n",
      " |          callbacks.\n",
      " |      \n",
      " |      Returns\n",
      " |      -------\n",
      " |      None\n",
      " |      \n",
      " |      Examples\n",
      " |      --------\n",
      " |      \n",
      " |      >>> import plotly.graph_objects as go\n",
      " |      >>> from plotly.callbacks import Points, InputDeviceState\n",
      " |      >>> points, state = Points(), InputDeviceState()\n",
      " |      \n",
      " |      >>> def click_fn(trace, points, state):\n",
      " |      ...     inds = points.point_inds\n",
      " |      ...     # Do something\n",
      " |      \n",
      " |      >>> trace = go.Scatter(x=[1, 2], y=[3, 0])\n",
      " |      >>> trace.on_click(click_fn)\n",
      " |      \n",
      " |      Note: The creation of the `points` and `state` objects is optional,\n",
      " |      it's simply a convenience to help the text editor perform completion\n",
      " |      on the arguments inside `click_fn`\n",
      " |  \n",
      " |  on_deselect(self, callback, append=False)\n",
      " |      Register function to be called when the user deselects points\n",
      " |      in this trace using doubleclick.\n",
      " |      \n",
      " |      Note: Callbacks will only be triggered when the trace belongs to a\n",
      " |      instance of plotly.graph_objs.FigureWidget and it is displayed in an\n",
      " |      ipywidget context. Callbacks will not be triggered on figures\n",
      " |      that are displayed using plot/iplot.\n",
      " |      \n",
      " |      Parameters\n",
      " |      ----------\n",
      " |      callback\n",
      " |          Callable function that accepts 3 arguments\n",
      " |      \n",
      " |          - this trace\n",
      " |          - plotly.callbacks.Points object\n",
      " |      \n",
      " |      append : bool\n",
      " |          If False (the default), this callback replaces any previously\n",
      " |          defined on_deselect callbacks for this trace. If True,\n",
      " |          this callback is appended to the list of any previously defined\n",
      " |          callbacks.\n",
      " |      \n",
      " |      Returns\n",
      " |      -------\n",
      " |      None\n",
      " |      \n",
      " |      Examples\n",
      " |      --------\n",
      " |      \n",
      " |      >>> import plotly.graph_objects as go\n",
      " |      >>> from plotly.callbacks import Points\n",
      " |      >>> points = Points()\n",
      " |      \n",
      " |      >>> def deselect_fn(trace, points):\n",
      " |      ...     inds = points.point_inds\n",
      " |      ...     # Do something\n",
      " |      \n",
      " |      >>> trace = go.Scatter(x=[1, 2], y=[3, 0])\n",
      " |      >>> trace.on_deselect(deselect_fn)\n",
      " |      \n",
      " |      Note: The creation of the `points` object is optional,\n",
      " |      it's simply a convenience to help the text editor perform completion\n",
      " |      on the `points` arguments inside `selection_fn`\n",
      " |  \n",
      " |  on_hover(self, callback, append=False)\n",
      " |      Register function to be called when the user hovers over one or more\n",
      " |      points in this trace\n",
      " |      \n",
      " |      Note: Callbacks will only be triggered when the trace belongs to a\n",
      " |      instance of plotly.graph_objs.FigureWidget and it is displayed in an\n",
      " |      ipywidget context. Callbacks will not be triggered on figures\n",
      " |      that are displayed using plot/iplot.\n",
      " |      \n",
      " |      Parameters\n",
      " |      ----------\n",
      " |      callback\n",
      " |          Callable function that accepts 3 arguments\n",
      " |      \n",
      " |          - this trace\n",
      " |          - plotly.callbacks.Points object\n",
      " |          - plotly.callbacks.InputDeviceState object\n",
      " |      \n",
      " |      append : bool\n",
      " |          If False (the default), this callback replaces any previously\n",
      " |          defined on_hover callbacks for this trace. If True,\n",
      " |          this callback is appended to the list of any previously defined\n",
      " |          callbacks.\n",
      " |      \n",
      " |      Returns\n",
      " |      -------\n",
      " |      None\n",
      " |      \n",
      " |      Examples\n",
      " |      --------\n",
      " |      \n",
      " |      >>> import plotly.graph_objects as go\n",
      " |      >>> from plotly.callbacks import Points, InputDeviceState\n",
      " |      >>> points, state = Points(), InputDeviceState()\n",
      " |      \n",
      " |      >>> def hover_fn(trace, points, state):\n",
      " |      ...     inds = points.point_inds\n",
      " |      ...     # Do something\n",
      " |      \n",
      " |      >>> trace = go.Scatter(x=[1, 2], y=[3, 0])\n",
      " |      >>> trace.on_hover(hover_fn)\n",
      " |      \n",
      " |      Note: The creation of the `points` and `state` objects is optional,\n",
      " |      it's simply a convenience to help the text editor perform completion\n",
      " |      on the arguments inside `hover_fn`\n",
      " |  \n",
      " |  on_selection(self, callback, append=False)\n",
      " |      Register function to be called when the user selects one or more\n",
      " |      points in this trace.\n",
      " |      \n",
      " |      Note: Callbacks will only be triggered when the trace belongs to a\n",
      " |      instance of plotly.graph_objs.FigureWidget and it is displayed in an\n",
      " |      ipywidget context. Callbacks will not be triggered on figures\n",
      " |      that are displayed using plot/iplot.\n",
      " |      \n",
      " |      Parameters\n",
      " |      ----------\n",
      " |      callback\n",
      " |          Callable function that accepts 4 arguments\n",
      " |      \n",
      " |          - this trace\n",
      " |          - plotly.callbacks.Points object\n",
      " |          - plotly.callbacks.BoxSelector or plotly.callbacks.LassoSelector\n",
      " |      \n",
      " |      append : bool\n",
      " |          If False (the default), this callback replaces any previously\n",
      " |          defined on_selection callbacks for this trace. If True,\n",
      " |          this callback is appended to the list of any previously defined\n",
      " |          callbacks.\n",
      " |      \n",
      " |      Returns\n",
      " |      -------\n",
      " |      None\n",
      " |      \n",
      " |      Examples\n",
      " |      --------\n",
      " |      \n",
      " |      >>> import plotly.graph_objects as go\n",
      " |      >>> from plotly.callbacks import Points\n",
      " |      >>> points = Points()\n",
      " |      \n",
      " |      >>> def selection_fn(trace, points, selector):\n",
      " |      ...     inds = points.point_inds\n",
      " |      ...     # Do something\n",
      " |      \n",
      " |      >>> trace = go.Scatter(x=[1, 2], y=[3, 0])\n",
      " |      >>> trace.on_selection(selection_fn)\n",
      " |      \n",
      " |      Note: The creation of the `points` object is optional,\n",
      " |      it's simply a convenience to help the text editor perform completion\n",
      " |      on the `points` arguments inside `selection_fn`\n",
      " |  \n",
      " |  on_unhover(self, callback, append=False)\n",
      " |      Register function to be called when the user unhovers away from one\n",
      " |      or more points in this trace.\n",
      " |      \n",
      " |      Note: Callbacks will only be triggered when the trace belongs to a\n",
      " |      instance of plotly.graph_objs.FigureWidget and it is displayed in an\n",
      " |      ipywidget context. Callbacks will not be triggered on figures\n",
      " |      that are displayed using plot/iplot.\n",
      " |      \n",
      " |      Parameters\n",
      " |      ----------\n",
      " |      callback\n",
      " |          Callable function that accepts 3 arguments\n",
      " |      \n",
      " |          - this trace\n",
      " |          - plotly.callbacks.Points object\n",
      " |          - plotly.callbacks.InputDeviceState object\n",
      " |      \n",
      " |      append : bool\n",
      " |          If False (the default), this callback replaces any previously\n",
      " |          defined on_unhover callbacks for this trace. If True,\n",
      " |          this callback is appended to the list of any previously defined\n",
      " |          callbacks.\n",
      " |      \n",
      " |      Returns\n",
      " |      -------\n",
      " |      None\n",
      " |      \n",
      " |      Examples\n",
      " |      --------\n",
      " |      \n",
      " |      >>> import plotly.graph_objects as go\n",
      " |      >>> from plotly.callbacks import Points, InputDeviceState\n",
      " |      >>> points, state = Points(), InputDeviceState()\n",
      " |      \n",
      " |      >>> def unhover_fn(trace, points, state):\n",
      " |      ...     inds = points.point_inds\n",
      " |      ...     # Do something\n",
      " |      \n",
      " |      >>> trace = go.Scatter(x=[1, 2], y=[3, 0])\n",
      " |      >>> trace.on_unhover(unhover_fn)\n",
      " |      \n",
      " |      Note: The creation of the `points` and `state` objects is optional,\n",
      " |      it's simply a convenience to help the text editor perform completion\n",
      " |      on the arguments inside `unhover_fn`\n",
      " |  \n",
      " |  ----------------------------------------------------------------------\n",
      " |  Methods inherited from plotly.basedatatypes.BasePlotlyType:\n",
      " |  \n",
      " |  __contains__(self, prop)\n",
      " |      Determine whether object contains a property or nested property\n",
      " |      \n",
      " |      Parameters\n",
      " |      ----------\n",
      " |      prop : str|tuple\n",
      " |          If prop is a simple string (e.g. 'foo'), then return true of the\n",
      " |          object contains an element named 'foo'\n",
      " |      \n",
      " |          If prop is a property path string (e.g. 'foo[0].bar'),\n",
      " |          then return true if the obejct contains the nested elements for\n",
      " |          each entry in the path string (e.g. 'bar' in obj['foo'][0])\n",
      " |      \n",
      " |          If prop is a property path tuple (e.g. ('foo', 0, 'bar')),\n",
      " |          then return true if the object contains the nested elements for\n",
      " |          each entry in the path string (e.g. 'bar' in obj['foo'][0])\n",
      " |      \n",
      " |      Returns\n",
      " |      -------\n",
      " |      bool\n",
      " |  \n",
      " |  __eq__(self, other)\n",
      " |      Test for equality\n",
      " |      \n",
      " |      To be considered equal, `other` must have the same type as this object\n",
      " |      and their `to_plotly_json` representaitons must be identical.\n",
      " |      \n",
      " |      Parameters\n",
      " |      ----------\n",
      " |      other\n",
      " |          The object to compare against\n",
      " |      \n",
      " |      Returns\n",
      " |      -------\n",
      " |      bool\n",
      " |  \n",
      " |  __getitem__(self, prop)\n",
      " |      Get item or nested item from object\n",
      " |      \n",
      " |      Parameters\n",
      " |      ----------\n",
      " |      prop : str|tuple\n",
      " |      \n",
      " |          If prop is the name of a property of this object, then the\n",
      " |          property is returned.\n",
      " |      \n",
      " |          If prop is a nested property path string (e.g. 'foo[1].bar'),\n",
      " |          then a nested property is returned (e.g. obj['foo'][1]['bar'])\n",
      " |      \n",
      " |          If prop is a path tuple (e.g. ('foo', 1, 'bar')), then a nested\n",
      " |          property is returned (e.g. obj['foo'][1]['bar']).\n",
      " |      \n",
      " |      Returns\n",
      " |      -------\n",
      " |      Any\n",
      " |  \n",
      " |  __iter__(self)\n",
      " |      Return an iterator over the object's properties\n",
      " |  \n",
      " |  __reduce__(self)\n",
      " |      Custom implementation of reduce is used to support deep copying\n",
      " |      and pickling\n",
      " |  \n",
      " |  __repr__(self)\n",
      " |      Customize object representation when displayed in the\n",
      " |      terminal/notebook\n",
      " |  \n",
      " |  __setattr__(self, prop, value)\n",
      " |      Parameters\n",
      " |      ----------\n",
      " |      prop : str\n",
      " |          The name of a direct child of this object\n",
      " |      value\n",
      " |          New property value\n",
      " |      Returns\n",
      " |      -------\n",
      " |      None\n",
      " |  \n",
      " |  __setitem__(self, prop, value)\n",
      " |      Parameters\n",
      " |      ----------\n",
      " |      prop : str\n",
      " |          The name of a direct child of this object\n",
      " |      \n",
      " |          Note: Setting nested properties using property path string or\n",
      " |          property path tuples is not supported.\n",
      " |      value\n",
      " |          New property value\n",
      " |      \n",
      " |      Returns\n",
      " |      -------\n",
      " |      None\n",
      " |  \n",
      " |  on_change(self, callback, *args, **kwargs)\n",
      " |      Register callback function to be called when certain properties or\n",
      " |      subproperties of this object are modified.\n",
      " |      \n",
      " |      Callback will be invoked whenever ANY of these properties is\n",
      " |      modified. Furthermore, the callback will only be invoked once even\n",
      " |      if multiple properties are modified during the same restyle /\n",
      " |      relayout / update operation.\n",
      " |      \n",
      " |      Parameters\n",
      " |      ----------\n",
      " |      callback : function\n",
      " |          Function that accepts 1 + len(`args`) parameters. First parameter\n",
      " |          is this object. Second through last parameters are the\n",
      " |          property / subpropery values referenced by args.\n",
      " |      args : list[str|tuple[int|str]]\n",
      " |          List of property references where each reference may be one of:\n",
      " |      \n",
      " |            1) A property name string (e.g. 'foo') for direct properties\n",
      " |            2) A property path string (e.g. 'foo[0].bar') for\n",
      " |               subproperties\n",
      " |            3) A property path tuple (e.g. ('foo', 0, 'bar')) for\n",
      " |               subproperties\n",
      " |      \n",
      " |      append : bool\n",
      " |          True if callback should be appended to previously registered\n",
      " |          callback on the same properties, False if callback should replace\n",
      " |          previously registered callbacks on the same properties. Defaults\n",
      " |          to False.\n",
      " |      \n",
      " |      Examples\n",
      " |      --------\n",
      " |      \n",
      " |      Register callback that prints out the range extents of the xaxis and\n",
      " |      yaxis whenever either either of them changes.\n",
      " |      \n",
      " |      >>> import plotly.graph_objects as go\n",
      " |      >>> fig = go.Figure(go.Scatter(x=[1, 2], y=[1, 0]))\n",
      " |      >>> fig.layout.on_change(\n",
      " |      ...   lambda obj, xrange, yrange: print(\"%s-%s\" % (xrange, yrange)),\n",
      " |      ...   ('xaxis', 'range'), ('yaxis', 'range'))\n",
      " |      \n",
      " |      \n",
      " |      Returns\n",
      " |      -------\n",
      " |      None\n",
      " |  \n",
      " |  pop(self, key, *args)\n",
      " |      Remove the value associated with the specified key and return it\n",
      " |      \n",
      " |      Parameters\n",
      " |      ----------\n",
      " |      key: str\n",
      " |          Property name\n",
      " |      dflt\n",
      " |          The default value to return if key was not found in object\n",
      " |      \n",
      " |      Returns\n",
      " |      -------\n",
      " |      value\n",
      " |          The removed value that was previously associated with key\n",
      " |      \n",
      " |      Raises\n",
      " |      ------\n",
      " |      KeyError\n",
      " |          If key is not in object and no dflt argument specified\n",
      " |  \n",
      " |  to_plotly_json(self)\n",
      " |      Return plotly JSON representation of object as a Python dict\n",
      " |      \n",
      " |      Returns\n",
      " |      -------\n",
      " |      dict\n",
      " |  \n",
      " |  update(self, dict1=None, overwrite=False, **kwargs)\n",
      " |      Update the properties of an object with a dict and/or with\n",
      " |      keyword arguments.\n",
      " |      \n",
      " |      This recursively updates the structure of the original\n",
      " |      object with the values in the input dict / keyword arguments.\n",
      " |      \n",
      " |      Parameters\n",
      " |      ----------\n",
      " |      dict1 : dict\n",
      " |          Dictionary of properties to be updated\n",
      " |      overwrite: bool\n",
      " |          If True, overwrite existing properties. If False, apply updates\n",
      " |          to existing properties recursively, preserving existing\n",
      " |          properties that are not specified in the update operation.\n",
      " |      kwargs :\n",
      " |          Keyword/value pair of properties to be updated\n",
      " |      \n",
      " |      Returns\n",
      " |      -------\n",
      " |      BasePlotlyType\n",
      " |          Updated plotly object\n",
      " |  \n",
      " |  ----------------------------------------------------------------------\n",
      " |  Readonly properties inherited from plotly.basedatatypes.BasePlotlyType:\n",
      " |  \n",
      " |  figure\n",
      " |      Reference to the top-level Figure or FigureWidget that this object\n",
      " |      belongs to. None if the object does not belong to a Figure\n",
      " |      \n",
      " |      Returns\n",
      " |      -------\n",
      " |      Union[BaseFigure, None]\n",
      " |  \n",
      " |  parent\n",
      " |      Return the object's parent, or None if the object has no parent\n",
      " |      Returns\n",
      " |      -------\n",
      " |      BasePlotlyType|BaseFigure\n",
      " |  \n",
      " |  plotly_name\n",
      " |      The plotly name of the object\n",
      " |      \n",
      " |      Returns\n",
      " |      -------\n",
      " |      str\n",
      " |  \n",
      " |  ----------------------------------------------------------------------\n",
      " |  Data descriptors inherited from plotly.basedatatypes.BasePlotlyType:\n",
      " |  \n",
      " |  __dict__\n",
      " |      dictionary for instance variables (if defined)\n",
      " |  \n",
      " |  __weakref__\n",
      " |      list of weak references to the object (if defined)\n",
      " |  \n",
      " |  ----------------------------------------------------------------------\n",
      " |  Data and other attributes inherited from plotly.basedatatypes.BasePlotlyType:\n",
      " |  \n",
      " |  __hash__ = None\n",
      "\n"
     ]
    }
   ],
   "source": [
    "help(go.Box)"
   ]
  }
 ],
 "metadata": {
  "kernelspec": {
   "display_name": "Python 3 (ipykernel)",
   "language": "python",
   "name": "python3"
  },
  "language_info": {
   "codemirror_mode": {
    "name": "ipython",
    "version": 3
   },
   "file_extension": ".py",
   "mimetype": "text/x-python",
   "name": "python",
   "nbconvert_exporter": "python",
   "pygments_lexer": "ipython3",
   "version": "3.9.7"
  }
 },
 "nbformat": 4,
 "nbformat_minor": 5
}
