{
 "cells": [
  {
   "cell_type": "markdown",
   "id": "c5a5ff4c",
   "metadata": {},
   "source": [
    "##### Imports, Seed"
   ]
  },
  {
   "cell_type": "code",
   "execution_count": 1,
   "id": "78ff3b4c",
   "metadata": {},
   "outputs": [],
   "source": [
    "import numpy as np\n",
    "import plotly.offline as pyo #generates html files for offline exploration\n",
    "import plotly.graph_objs as go\n",
    "\n",
    "#set random seed\n",
    "np.random.seed(42)"
   ]
  },
  {
   "cell_type": "code",
   "execution_count": 2,
   "id": "8fa95245",
   "metadata": {},
   "outputs": [],
   "source": [
    "#create random arrays\n",
    "random_x = np.random.randint(1,101,100)\n",
    "random_y = np.random.randint(1,101,100)"
   ]
  },
  {
   "cell_type": "markdown",
   "id": "67b5c0be",
   "metadata": {},
   "source": [
    "##### Basic Scatterplot"
   ]
  },
  {
   "cell_type": "code",
   "execution_count": 3,
   "id": "4f741a26",
   "metadata": {},
   "outputs": [],
   "source": [
    "#plot nested in list\n",
    "# different plot types can be called off go\n",
    "data = [go.Scatter(x=random_x, y=random_y, mode = 'markers')]"
   ]
  },
  {
   "cell_type": "code",
   "execution_count": 4,
   "id": "f0e10d43",
   "metadata": {},
   "outputs": [
    {
     "data": {
      "text/plain": [
       "'scatter.html'"
      ]
     },
     "execution_count": 4,
     "metadata": {},
     "output_type": "execute_result"
    }
   ],
   "source": [
    "#default filename is temp-plot.html\n",
    "pyo.plot(data,filename = 'scatter.html')"
   ]
  },
  {
   "cell_type": "markdown",
   "id": "579c00a1",
   "metadata": {},
   "source": [
    "##### Add Basic Formatting"
   ]
  },
  {
   "cell_type": "code",
   "execution_count": 5,
   "id": "34712ee9",
   "metadata": {},
   "outputs": [],
   "source": [
    "#now define the plot layout before graphing\n",
    "# NOTICE use of dictionaries w/ two different formats\n",
    "\n",
    "layout = go.Layout(title = 'Basic Scatter Plot with Formatting',\n",
    "                   xaxis={'title':'Random X'},\n",
    "                   yaxis = dict(title='Random Y'),\n",
    "                   hovermode='closest') \n",
    "#hovermode closest shows us the coordinates of the nearest datapoint\n",
    "\n",
    "#now we create a figure with the data and layout\n",
    "fig = go.Figure(data=data, layout=layout)"
   ]
  },
  {
   "cell_type": "code",
   "execution_count": 6,
   "id": "f3b77c76",
   "metadata": {},
   "outputs": [
    {
     "data": {
      "text/plain": [
       "'formatted_scatter.html'"
      ]
     },
     "execution_count": 6,
     "metadata": {},
     "output_type": "execute_result"
    }
   ],
   "source": [
    "#create html\n",
    "pyo.plot(fig,filename = 'formatted_scatter.html')"
   ]
  },
  {
   "cell_type": "markdown",
   "id": "b0379f8d",
   "metadata": {},
   "source": [
    "Notes:\n",
    "- Data variable is a list that contains the plot (EX: go.Scatter(...))\n",
    "- Layout variable contains layout object where I added title, labels, etc\n",
    "  - parameters that take multiple arguements use a dictionary format\n",
    "- Fig is a Figure object (go.Figure) where we set the data and layout parameters"
   ]
  },
  {
   "cell_type": "markdown",
   "id": "5b5284b1",
   "metadata": {},
   "source": [
    "##### Add marker formatting"
   ]
  },
  {
   "cell_type": "code",
   "execution_count": 7,
   "id": "61b823b8",
   "metadata": {},
   "outputs": [
    {
     "data": {
      "text/plain": [
       "'formatted_scatter_wMarkers.html'"
      ]
     },
     "execution_count": 7,
     "metadata": {},
     "output_type": "execute_result"
    }
   ],
   "source": [
    "#add marker dictionary to plot object\n",
    "data = [go.Scatter(x=random_x, \n",
    "                   y=random_y, \n",
    "                   mode = 'markers',\n",
    "                  marker=dict(\n",
    "                      size=10,\n",
    "                      color='rgb(30,112,50)',\n",
    "                      symbol='diamond',\n",
    "                      line={'width':2}\n",
    "                  ))]\n",
    "#same layout object as used above\n",
    "layout = go.Layout(title = 'Basic Scatter Plot with Formatting',\n",
    "                   xaxis={'title':'Random X'},\n",
    "                   yaxis = dict(title='Random Y'),\n",
    "                   hovermode='closest') \n",
    "\n",
    "#Recreate figure\n",
    "fig = go.Figure(data=data, layout=layout)\n",
    "\n",
    "#create plot\n",
    "pyo.plot(fig,filename = 'formatted_scatter_wMarkers.html')"
   ]
  }
 ],
 "metadata": {
  "kernelspec": {
   "display_name": "Python 3 (ipykernel)",
   "language": "python",
   "name": "python3"
  },
  "language_info": {
   "codemirror_mode": {
    "name": "ipython",
    "version": 3
   },
   "file_extension": ".py",
   "mimetype": "text/x-python",
   "name": "python",
   "nbconvert_exporter": "python",
   "pygments_lexer": "ipython3",
   "version": "3.9.7"
  }
 },
 "nbformat": 4,
 "nbformat_minor": 5
}
